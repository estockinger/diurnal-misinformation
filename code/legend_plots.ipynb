{
 "cells": [
  {
   "cell_type": "code",
   "execution_count": 3,
   "id": "606a35e6-cc5a-4eb6-b7aa-36258103572b",
   "metadata": {
    "pycharm": {
     "name": "#%%\n"
    }
   },
   "outputs": [],
   "source": [
    "import matplotlib.pyplot as plt\n",
    "import matplotlib.collections as mcol\n",
    "from matplotlib.legend_handler import HandlerLineCollection, HandlerPatch\n",
    "import matplotlib.lines as mlines\n",
    "import matplotlib.patches as mpatches\n",
    "import matplotlib.colors as mcolors\n",
    "import numpy as np\n",
    "from scripts.enums import *"
   ]
  },
  {
   "cell_type": "code",
   "execution_count": 4,
   "id": "fd9d9575",
   "metadata": {
    "collapsed": false,
    "pycharm": {
     "name": "#%%\n"
    }
   },
   "outputs": [],
   "source": [
    "import matplotlib.font_manager"
   ]
  },
  {
   "cell_type": "code",
   "execution_count": 5,
   "id": "d53ebb63-0393-4653-8504-41db891a9f21",
   "metadata": {
    "pycharm": {
     "name": "#%%\n"
    },
    "tags": []
   },
   "outputs": [],
   "source": [
    "class HandlerExtendedLines(HandlerLineCollection):\n",
    "    def __init__(self, vertical=False, fill=False):\n",
    "        self.vertical=vertical\n",
    "        self.fill=fill\n",
    "        super().__init__()\n",
    "        \n",
    "    def create_artists(self, legend, orig_handle, xdescent, ydescent, width, height, fontsize, trans):\n",
    "        numlines = len(orig_handle.get_segments())\n",
    "        xdata, xdata_marker = self.get_xdata(legend, xdescent, ydescent, width, height, fontsize)\n",
    "        leglines = []\n",
    "        ydata = np.full_like(xdata, height / (numlines + 1))\n",
    "        for i in range(numlines):\n",
    "            args={}\n",
    "            if self.vertical:\n",
    "                xd = xdata[0]+(i+.5)*(xdata[-1] - xdata[0])/numlines\n",
    "                if self.fill:\n",
    "                    args['lw']=(width-1)/numlines\n",
    "                legline = mlines.Line2D([xd, xd], [-ydescent*.5, ydata[0]+ydescent*1.5], **args)\n",
    "            else:\n",
    "                if self.fill:\n",
    "                    args['lw']=(height-1)/numlines\n",
    "                legline = mlines.Line2D(xdata, ydata* (numlines - i) - ydescent)\n",
    "        \n",
    "            self.update_prop(legline, orig_handle, legend)\n",
    "            try:\n",
    "                color = orig_handle.get_colors()[i]\n",
    "            except IndexError:\n",
    "                color = orig_handle.get_colors()[0]\n",
    "            try:\n",
    "                dashes = orig_handle.get_dashes()[i]\n",
    "            except IndexError:\n",
    "                dashes = orig_handle.get_dashes()[0]\n",
    "            try:\n",
    "                lw = orig_handle.get_linewidths()[i]\n",
    "            except IndexError:\n",
    "                lw = orig_handle.get_linewidths()[0]\n",
    "            if dashes[1] is not None:\n",
    "                legline.set_dashes(dashes[1])\n",
    "            legline.set_color(color)\n",
    "            legline.set_transform(trans)\n",
    "            legline.set_linewidth(lw)\n",
    "            leglines.append(legline)\n",
    "        return leglines\n",
    "    \n",
    "class VerticalLineCollection(mcol.LineCollection):\n",
    "    pass\n",
    "\n",
    "class FillLineCollection(mcol.LineCollection):\n",
    "    pass\n",
    "\n",
    "class Scatter:\n",
    "    pass\n",
    "\n",
    "class ScatterHandler:\n",
    "    def legend_artist(self, legend, orig_handle, fontsize, handlebox):\n",
    "        x0, y0 = handlebox.xdescent, handlebox.ydescent-8\n",
    "        width, height = handlebox.width, handlebox.height\n",
    "        circlewidth=3\n",
    "        for color in list(Clusters.palette().values())[:-1]:\n",
    "            patch = mpatches.Circle([x0, y0], circlewidth, facecolor=color, lw=0, transform=handlebox.get_transform())\n",
    "            x0+=width/len(Clusters)\n",
    "            y0=(y0+height/2)%height\n",
    "            \n",
    "            handlebox.add_artist(patch)\n",
    "        return patch\n",
    "\n",
    "def make_legend_arrow(legend, orig_handle, xdescent, ydescent, width, height, fontsize):\n",
    "    return mpatches.FancyArrow(0, 0, width, height*.5, length_includes_head=True, head_width=0.4*height )\n",
    "\n",
    "\n",
    "def export_legend(legend, filename=\"legend_ftonly\"):\n",
    "    plt.axis('off')\n",
    "    fig =legend.figure\n",
    "    fig.canvas.draw()\n",
    "    bbox=legend.get_window_extent().transformed(fig.dpi_scale_trans.inverted())\n",
    "    bbox.y1=bbox.y1\n",
    "    fig.savefig(f'../plots/legends/{filename}.eps', format='eps', transparent=False, dpi=300, bbox_inches=bbox)\n",
    "    transparant_proxy=mlines.Line2D([0,0], [0,0], color=\"white\", alpha=0)"
   ]
  },
  {
   "cell_type": "markdown",
   "id": "e9621524-cc5d-4a3b-a782-5bb6d13bd4d0",
   "metadata": {
    "pycharm": {
     "name": "#%% md\n"
    }
   },
   "source": [
    "# Legend for smoothed diurnal activity and ratio of harmful content"
   ]
  },
  {
   "cell_type": "code",
   "execution_count": 6,
   "id": "8825a759-0dec-44c0-ba67-65aea9d64c41",
   "metadata": {
    "pycharm": {
     "name": "#%%\n"
    },
    "tags": []
   },
   "outputs": [],
   "source": [
    "harmful_ratio_collection = mcol.LineCollection(len(FactTypes.harmful_order()) * [[(0, 0)]], colors=[k for k in FactTypes.harmful_order(attribute='color')])\n",
    "\n",
    "cpalette=Clusters.palette(include_total=False)\n",
    "fpalette=FactTypes.palette()\n",
    "clines = len(Clusters) * [[(0, 0)]]"
   ]
  },
  {
   "cell_type": "code",
   "execution_count": 7,
   "id": "b04e5e10",
   "metadata": {
    "collapsed": false,
    "pycharm": {
     "name": "#%%\n"
    }
   },
   "outputs": [
    {
     "name": "stderr",
     "output_type": "stream",
     "text": [
      "findfont: Font family ['Helvetica'] not found. Falling back to DejaVu Sans.\n"
     ]
    },
    {
     "data": {
      "image/png": "[encoded data removed]",
      "text/plain": [
       "<Figure size 432x288 with 1 Axes>"
      ]
     },
     "metadata": {
      "needs_background": "light"
     },
     "output_type": "display_data"
    }
   ],
   "source": [
    "import matplotlib.font_manager\n",
    "user_handlers = [mlines.Line2D([0,0], [0,0], color=v) for v in cpalette.values()]\n",
    "user_legend=plt.legend(user_handlers, Clusters, ncol=4, loc = 3, framealpha=1, frameon=False)\n",
    "export_legend(user_legend, 'legend_user_types_horizonal')"
   ]
  },
  {
   "cell_type": "code",
   "execution_count": 8,
   "id": "2f53e507",
   "metadata": {
    "collapsed": false,
    "pycharm": {
     "name": "#%%\n"
    }
   },
   "outputs": [],
   "source": [
    "num_posts_collection = FillLineCollection(len(fpalette) * [[(0, 0)]], colors=fpalette.values(), lw=3)\n",
    "\n",
    "cluster_collection=mcol.LineCollection(clines, colors=cpalette.values())\n",
    "max_collection=VerticalLineCollection(clines, colors=cpalette.values(), linestyle=\"--\")\n",
    "min_collection=VerticalLineCollection(clines, colors=cpalette.values(), linestyle=\":\")\n",
    "scatter_collection=mcol.CircleCollection([40]*len(Clusters), facecolors=cpalette.values(), edgecolors=cpalette.values())"
   ]
  },
  {
   "cell_type": "code",
   "execution_count": 9,
   "id": "75cef20a-948e-4913-8f32-cb58fe31f1c6",
   "metadata": {
    "pycharm": {
     "name": "#%%\n"
    }
   },
   "outputs": [
    {
     "data": {
      "image/png": "[encoded data removed]",
      "text/plain": [
       "<Figure size 432x288 with 1 Axes>"
      ]
     },
     "metadata": {
      "needs_background": "light"
     },
     "output_type": "display_data"
    }
   ],
   "source": [
    "linear_ratio_activity_patches = [\n",
    "    Scatter(),\n",
    "    max_collection,\n",
    "    mpatches.Patch(fc=\"none\", ec='lightgray', alpha=1, lw=0, zorder=0, hatch=\"////\")\n",
    "]\n",
    "    \n",
    "linear_ratio_activity_legend=plt.legend(linear_ratio_activity_patches, ['aggregated activity/ratios', 'max', 'peak activity periods'], ncol=4, \n",
    "                  handler_map={\n",
    "                      mcol.LineCollection: HandlerExtendedLines(vertical=False, fill=False),\n",
    "                      VerticalLineCollection: HandlerExtendedLines(vertical=True, fill=False),\n",
    "                      Scatter: ScatterHandler()\n",
    "                  }, \n",
    "                  loc = 3, framealpha=1, frameon=False, handleheight=3, handlelength=2.5)\n",
    "export_legend(linear_ratio_activity_legend, 'legend_ratio_vars_horizonal')"
   ]
  },
  {
   "cell_type": "code",
   "execution_count": 10,
   "id": "22f6d994-8634-4237-aa49-1f5dac606f09",
   "metadata": {
    "pycharm": {
     "name": "#%%\n"
    }
   },
   "outputs": [
    {
     "data": {
      "image/png": "[encoded data removed]",
      "text/plain": [
       "<Figure size 432x288 with 1 Axes>"
      ]
     },
     "metadata": {
      "needs_background": "light"
     },
     "output_type": "display_data"
    }
   ],
   "source": [
    "user_ratio_activity_legend=plt.legend(\n",
    "    user_handlers + linear_ratio_activity_patches,\n",
    "    list(Clusters) + ['aggregated activity/ratios', 'max','peak activity periods'],\n",
    "    handler_map={\n",
    "      mcol.LineCollection: HandlerExtendedLines(vertical=False, fill=False),\n",
    "      VerticalLineCollection: HandlerExtendedLines(vertical=True, fill=False),\n",
    "      Scatter: ScatterHandler()\n",
    "    }, \n",
    "    loc = 3, ncol=7, framealpha=1, frameon=False, handleheight=3, handlelength=2.5)\n",
    "export_legend(user_ratio_activity_legend, 'legend_user_types_and_ratio_horizonal')"
   ]
  },
  {
   "cell_type": "markdown",
   "id": "4ee07ba6-756e-4358-935b-2fd3cbd4155a",
   "metadata": {
    "pycharm": {
     "name": "#%% md\n"
    }
   },
   "source": [
    "# Clockface plots"
   ]
  },
  {
   "cell_type": "code",
   "execution_count": 33,
   "id": "0cc509e0-3580-4c7d-b4d8-c65adf515f67",
   "metadata": {
    "pycharm": {
     "name": "#%%\n"
    },
    "tags": []
   },
   "outputs": [],
   "source": [
    "ft_patches = []\n",
    "ft_labels = []\n",
    "\n",
    "for k,v in fpalette.items():\n",
    "    if k in FactTypes.known_order(attribute=\"name\"):\n",
    "        ft_labels.append(k)\n",
    "        ft_patches.append(mpatches.Patch(color=mcolors.rgb2hex(v), label=k))"
   ]
  },
  {
   "cell_type": "code",
   "execution_count": 37,
   "id": "f520c7f4",
   "metadata": {
    "collapsed": false,
    "pycharm": {
     "name": "#%%\n"
    }
   },
   "outputs": [
    {
     "data": {
      "image/png": "[encoded data removed]",
      "text/plain": [
       "<Figure size 432x288 with 1 Axes>"
      ]
     },
     "metadata": {
      "needs_background": "light"
     },
     "output_type": "display_data"
    }
   ],
   "source": [
    "ft_legend=plt.legend(ft_patches, ft_labels,# ncol=7,\n",
    "                  #handler_map={mpatches.FancyArrow : HandlerPatch(patch_func=make_legend_arrow)},\n",
    "                  loc = 3, framealpha=1, frameon=False);\n",
    "\n",
    "export_legend(ft_legend, 'legend_facttypes')\n",
    "\n",
    "ft_legend=plt.legend(ft_patches, ft_labels, ncol=7,\n",
    "                  #handler_map={mpatches.FancyArrow : HandlerPatch(patch_func=make_legend_arrow)},\n",
    "                  loc = 3, framealpha=1, frameon=False);\n",
    "\n",
    "export_legend(ft_legend, 'legend_facttypes_horizontal')"
   ]
  },
  {
   "cell_type": "code",
   "execution_count": 38,
   "id": "34b6d35b-d4ff-4e93-a3c4-62be0fdc6b8d",
   "metadata": {
    "pycharm": {
     "name": "#%%\n"
    },
    "tags": []
   },
   "outputs": [
    {
     "data": {
      "image/png": "[encoded data removed]",
      "text/plain": [
       "<Figure size 432x288 with 1 Axes>"
      ]
     },
     "metadata": {
      "needs_background": "light"
     },
     "output_type": "display_data"
    }
   ],
   "source": [
    "clockface_labels = [\n",
    "    \"prolonged waking\", \n",
    "    \"top 25% (machinated)\",\n",
    "    \"cumulative ratio (machinated)\",\n",
    "]\n",
    "clockface_handles = [\n",
    "    mpatches.Patch(facecolor='.9', lw=0),\n",
    "    mpatches.Patch(facecolor='mistyrose', edgecolor='darkred', lw=0, alpha=1),\n",
    "    harmful_ratio_collection,\n",
    "]\n",
    "\n",
    "clockface_legend=plt.legend(clockface_handles, clockface_labels, \n",
    "                  handler_map={\n",
    "                      mcol.LineCollection: HandlerExtendedLines(vertical=False, fill=False),\n",
    "                      mpatches.FancyArrow : HandlerPatch(patch_func=make_legend_arrow),\n",
    "                      VerticalLineCollection: HandlerExtendedLines(vertical=False, fill=False),\n",
    "                      FillLineCollection: HandlerExtendedLines(vertical=True, fill=True)\n",
    "                  }, loc = 3, framealpha=1, frameon=False, handleheight=1.5, handlelength=2);\n",
    "\n",
    "export_legend(clockface_legend, 'legend_clockface_other')"
   ]
  },
  {
   "cell_type": "code",
   "execution_count": 39,
   "id": "ca569fda-cc0a-4eba-84ec-e3ce32a0d747",
   "metadata": {
    "pycharm": {
     "name": "#%%\n"
    },
    "tags": []
   },
   "outputs": [
    {
     "data": {
      "image/png": "[encoded data removed]",
      "text/plain": [
       "<Figure size 432x288 with 1 Axes>"
      ]
     },
     "metadata": {
      "needs_background": "light"
     },
     "output_type": "display_data"
    }
   ],
   "source": [
    "ft_cl_legend=plt.legend(\n",
    "    list(ft_patches) +clockface_handles, \n",
    "    #[\"y or \\n\".join(i.split(\"y or\")) for i in ft_labels]+\n",
    "    list(ft_labels) + clockface_labels, \n",
    "    handler_map={\n",
    "        mcol.LineCollection: HandlerExtendedLines(vertical=False, fill=False),\n",
    "        mpatches.FancyArrow : HandlerPatch(patch_func=make_legend_arrow),\n",
    "        VerticalLineCollection: HandlerExtendedLines(vertical=False, fill=False),\n",
    "        FillLineCollection: HandlerExtendedLines(vertical=True, fill=True)\n",
    "    }, loc = 3, ncol=5, framealpha=1, frameon=False, handleheight=1.5, handlelength=2);\n",
    "export_legend(ft_cl_legend, 'legend_facttypes_clockface_horizontal_5col')"
   ]
  },
  {
   "cell_type": "code",
   "execution_count": 40,
   "id": "3c74e1db",
   "metadata": {
    "collapsed": false,
    "pycharm": {
     "name": "#%%\n"
    }
   },
   "outputs": [
    {
     "data": {
      "image/png": "[encoded data removed]",
      "text/plain": [
       "<Figure size 432x288 with 1 Axes>"
      ]
     },
     "metadata": {
      "needs_background": "light"
     },
     "output_type": "display_data"
    }
   ],
   "source": [
    "ft_cl_legend=plt.legend(\n",
    "    list(ft_patches) +clockface_handles,\n",
    "    #[\"y or \\n\".join(i.split(\"y or\")) for i in ft_labels]+\n",
    "    list(ft_labels) + clockface_labels,\n",
    "    handler_map={\n",
    "        mcol.LineCollection: HandlerExtendedLines(vertical=False, fill=False),\n",
    "        mpatches.FancyArrow : HandlerPatch(patch_func=make_legend_arrow),\n",
    "        VerticalLineCollection: HandlerExtendedLines(vertical=False, fill=False),\n",
    "        FillLineCollection: HandlerExtendedLines(vertical=True, fill=True)\n",
    "    }, loc = 3, ncol=10, framealpha=1, frameon=False, handleheight=1.5, handlelength=2);\n",
    "export_legend(ft_cl_legend, 'legend_facttypes_clockface_horizontal_10col')"
   ]
  },
  {
   "cell_type": "code",
   "execution_count": null,
   "id": "4b02ae3e",
   "metadata": {
    "collapsed": false,
    "pycharm": {
     "name": "#%%\n"
    }
   },
   "outputs": [],
   "source": []
  }
 ],
 "metadata": {
  "kernelspec": {
   "display_name": "Python 3 (ipykernel)",
   "language": "python",
   "name": "python3"
  },
  "language_info": {
   "codemirror_mode": {
    "name": "ipython",
    "version": 3
   },
   "file_extension": ".py",
   "mimetype": "text/x-python",
   "name": "python",
   "nbconvert_exporter": "python",
   "pygments_lexer": "ipython3",
   "version": "3.10.5"
  }
 },
 "nbformat": 4,
 "nbformat_minor": 5
}
