{
 "cells": [
  {
   "cell_type": "code",
   "execution_count": 1,
   "metadata": {
    "collapsed": false,
    "pycharm": {
     "name": "#%%\n"
    }
   },
   "outputs": [],
   "source": [
    "import pandas as pd\n",
    "import numpy as np\n",
    "import seaborn as sns\n",
    "from scipy.stats import spearmanr, chi2_contingency\n",
    "\n",
    "from diurnal_misinformation.config import ItalyConfig\n",
    "from diurnal_misinformation.utils import groupby_with_total, format_h_min\n",
    "from diurnal_misinformation.path_utils import save_to_latex, save_plot\n",
    "from diurnal_misinformation.enums import Columns, FactTypes, ContentType, Clusters\n",
    "from diurnal_misinformation.data_processor import DataProcessor, user_mapping, disinformative_mapping\n",
    "from diurnal_misinformation.fourier_utils import FourierRoutine"
   ]
  },
  {
   "cell_type": "code",
   "execution_count": 2,
   "metadata": {
    "pycharm": {
     "name": "#%%\n"
    },
    "tags": []
   },
   "outputs": [],
   "source": [
    "np.random.seed(0)\n",
    "config = ItalyConfig()\n",
    "processor = DataProcessor(config)"
   ]
  },
  {
   "cell_type": "markdown",
   "metadata": {
    "pycharm": {
     "name": "#%% md\n"
    }
   },
   "source": [
    "Tweets were collected based on keywords and hashtags related to Covid (as described in Gallotti2020). In the following, we only look at Tweets that were classified with a FactType, meaning that they contain a URL in one of the domains in the database by Gallotti2020.\n",
    "We assume that circadian rhythms have a similar effect on tweets with and without URLS."
   ]
  },
  {
   "cell_type": "markdown",
   "metadata": {},
   "source": [
    "# Time-independent"
   ]
  },
  {
   "cell_type": "code",
   "execution_count": 3,
   "metadata": {},
   "outputs": [
    {
     "data": {
      "text/html": [
       "<div>\n",
       "<style scoped>\n",
       "    .dataframe tbody tr th:only-of-type {\n",
       "        vertical-align: middle;\n",
       "    }\n",
       "\n",
       "    .dataframe tbody tr th {\n",
       "        vertical-align: top;\n",
       "    }\n",
       "\n",
       "    .dataframe thead th {\n",
       "        text-align: right;\n",
       "    }\n",
       "</style>\n",
       "<table border=\"1\" class=\"dataframe\">\n",
       "  <thead>\n",
       "    <tr style=\"text-align: right;\">\n",
       "      <th>cluster</th>\n",
       "      <th>infrequent type</th>\n",
       "      <th>morning type</th>\n",
       "      <th>intermediate type</th>\n",
       "      <th>evening type</th>\n",
       "      <th>total</th>\n",
       "    </tr>\n",
       "    <tr>\n",
       "      <th>verified</th>\n",
       "      <th></th>\n",
       "      <th></th>\n",
       "      <th></th>\n",
       "      <th></th>\n",
       "      <th></th>\n",
       "    </tr>\n",
       "  </thead>\n",
       "  <tbody>\n",
       "    <tr>\n",
       "      <th>False</th>\n",
       "      <td>7795201</td>\n",
       "      <td>2733078</td>\n",
       "      <td>5015449</td>\n",
       "      <td>2308654</td>\n",
       "      <td>17852382</td>\n",
       "    </tr>\n",
       "    <tr>\n",
       "      <th>True</th>\n",
       "      <td>63008</td>\n",
       "      <td>82809</td>\n",
       "      <td>184206</td>\n",
       "      <td>29821</td>\n",
       "      <td>359844</td>\n",
       "    </tr>\n",
       "    <tr>\n",
       "      <th>total</th>\n",
       "      <td>7858209</td>\n",
       "      <td>2815887</td>\n",
       "      <td>5199655</td>\n",
       "      <td>2338475</td>\n",
       "      <td>18212226</td>\n",
       "    </tr>\n",
       "  </tbody>\n",
       "</table>\n",
       "</div>"
      ],
      "text/plain": [
       "cluster   infrequent type  morning type  intermediate type  evening type  \\\n",
       "verified                                                                   \n",
       "False             7795201       2733078            5015449       2308654   \n",
       "True                63008         82809             184206         29821   \n",
       "total             7858209       2815887            5199655       2338475   \n",
       "\n",
       "cluster      total  \n",
       "verified            \n",
       "False     17852382  \n",
       "True        359844  \n",
       "total     18212226  "
      ]
     },
     "execution_count": 3,
     "metadata": {},
     "output_type": "execute_result"
    }
   ],
   "source": [
    "pd.crosstab(\n",
    "    processor.data.index.get_level_values(Columns.VERIFIED.value), \n",
    "    processor.cluster_mapping(processor.data, 'all'), \n",
    "    rownames=[Columns.VERIFIED.value],\n",
    "    colnames=[Columns.CLUSTER.value],\n",
    "    values=processor.data[Columns.POSTS.value].to_numpy(), margins=True, dropna=False, aggfunc=sum, margins_name='total'\n",
    ")[Clusters.total_order()]"
   ]
  },
  {
   "cell_type": "code",
   "execution_count": 4,
   "metadata": {},
   "outputs": [
    {
     "data": {
      "text/html": [
       "<div>\n",
       "<style scoped>\n",
       "    .dataframe tbody tr th:only-of-type {\n",
       "        vertical-align: middle;\n",
       "    }\n",
       "\n",
       "    .dataframe tbody tr th {\n",
       "        vertical-align: top;\n",
       "    }\n",
       "\n",
       "    .dataframe thead th {\n",
       "        text-align: right;\n",
       "    }\n",
       "</style>\n",
       "<table border=\"1\" class=\"dataframe\">\n",
       "  <thead>\n",
       "    <tr style=\"text-align: right;\">\n",
       "      <th>FactType</th>\n",
       "      <th>Science</th>\n",
       "      <th>Mainstream Media</th>\n",
       "      <th>Satire</th>\n",
       "      <th>Clickbait</th>\n",
       "      <th>Other</th>\n",
       "      <th>Political</th>\n",
       "      <th>Fake or hoax</th>\n",
       "      <th>Conspiracy &amp; junk science</th>\n",
       "      <th>total</th>\n",
       "    </tr>\n",
       "    <tr>\n",
       "      <th>verified</th>\n",
       "      <th></th>\n",
       "      <th></th>\n",
       "      <th></th>\n",
       "      <th></th>\n",
       "      <th></th>\n",
       "      <th></th>\n",
       "      <th></th>\n",
       "      <th></th>\n",
       "      <th></th>\n",
       "    </tr>\n",
       "  </thead>\n",
       "  <tbody>\n",
       "    <tr>\n",
       "      <th>False</th>\n",
       "      <td>18597</td>\n",
       "      <td>719388</td>\n",
       "      <td>4289</td>\n",
       "      <td>12189</td>\n",
       "      <td>16890445</td>\n",
       "      <td>98202</td>\n",
       "      <td>43716</td>\n",
       "      <td>65556</td>\n",
       "      <td>17852382</td>\n",
       "    </tr>\n",
       "    <tr>\n",
       "      <th>True</th>\n",
       "      <td>234</td>\n",
       "      <td>38273</td>\n",
       "      <td>12</td>\n",
       "      <td>8</td>\n",
       "      <td>320542</td>\n",
       "      <td>498</td>\n",
       "      <td>172</td>\n",
       "      <td>105</td>\n",
       "      <td>359844</td>\n",
       "    </tr>\n",
       "    <tr>\n",
       "      <th>total</th>\n",
       "      <td>18831</td>\n",
       "      <td>757661</td>\n",
       "      <td>4301</td>\n",
       "      <td>12197</td>\n",
       "      <td>17210987</td>\n",
       "      <td>98700</td>\n",
       "      <td>43888</td>\n",
       "      <td>65661</td>\n",
       "      <td>18212226</td>\n",
       "    </tr>\n",
       "  </tbody>\n",
       "</table>\n",
       "</div>"
      ],
      "text/plain": [
       "FactType  Science  Mainstream Media  Satire  Clickbait     Other  Political  \\\n",
       "verified                                                                      \n",
       "False       18597            719388    4289      12189  16890445      98202   \n",
       "True          234             38273      12          8    320542        498   \n",
       "total       18831            757661    4301      12197  17210987      98700   \n",
       "\n",
       "FactType  Fake or hoax  Conspiracy & junk science     total  \n",
       "verified                                                     \n",
       "False            43716                      65556  17852382  \n",
       "True               172                        105    359844  \n",
       "total            43888                      65661  18212226  "
      ]
     },
     "execution_count": 4,
     "metadata": {},
     "output_type": "execute_result"
    }
   ],
   "source": [
    "pd.crosstab(\n",
    "    processor.data.index.get_level_values(Columns.VERIFIED.value), \n",
    "    processor.data.index.get_level_values(Columns.FACTTYPE.value),  \n",
    "    values=processor.data[Columns.POSTS.value].to_numpy(), \n",
    "    rownames=[Columns.VERIFIED.value],\n",
    "    colnames=[Columns.FACTTYPE.value],\n",
    "    margins=True, dropna=False, aggfunc=sum, margins_name='total'\n",
    ")[FactTypes.order('name') + ['total']]"
   ]
  },
  {
   "cell_type": "markdown",
   "metadata": {},
   "source": [
    "## FactType counts and ratios"
   ]
  },
  {
   "cell_type": "markdown",
   "metadata": {},
   "source": [
    "Sum of posts per fact type and cluster: $\\sum_{t \\in T, \\ i \\in c}|P_{(t,i,f)|}$"
   ]
  },
  {
   "cell_type": "code",
   "execution_count": 5,
   "metadata": {},
   "outputs": [],
   "source": [
    "ft_posts_per_cluster = pd.crosstab(\n",
    "    processor.data.index.get_level_values(Columns.FACTTYPE.value), \n",
    "    processor.cluster_mapping(processor.data, 'all'), \n",
    "    values=processor.data[Columns.POSTS.value].to_numpy(), \n",
    "    rownames=[Columns.FACTTYPE.value],\n",
    "    colnames=[Columns.CLUSTER.value],\n",
    "    margins=True, dropna=False, aggfunc=sum,\n",
    "    margins_name='total'\n",
    ")\n",
    "ft_posts_per_cluster.loc[ContentType.DISINFORMATIVE.value] = ft_posts_per_cluster.loc[FactTypes.disinformative_order(attribute='name')].sum(axis=0)\n",
    "ft_posts_per_cluster.loc[ContentType.KNOWN.value] = ft_posts_per_cluster.loc['total'] - ft_posts_per_cluster.loc['Other']\n",
    "ft_posts_per_cluster.loc[ContentType.CLEAR.value] = ft_posts_per_cluster.loc[ContentType.KNOWN.value] - ft_posts_per_cluster.loc[ContentType.DISINFORMATIVE.value]"
   ]
  },
  {
   "cell_type": "code",
   "execution_count": 6,
   "metadata": {},
   "outputs": [
    {
     "data": {
      "text/html": [
       "<div>\n",
       "<style scoped>\n",
       "    .dataframe tbody tr th:only-of-type {\n",
       "        vertical-align: middle;\n",
       "    }\n",
       "\n",
       "    .dataframe tbody tr th {\n",
       "        vertical-align: top;\n",
       "    }\n",
       "\n",
       "    .dataframe thead th {\n",
       "        text-align: right;\n",
       "    }\n",
       "</style>\n",
       "<table border=\"1\" class=\"dataframe\">\n",
       "  <thead>\n",
       "    <tr style=\"text-align: right;\">\n",
       "      <th>cluster</th>\n",
       "      <th>infrequent type</th>\n",
       "      <th>morning type</th>\n",
       "      <th>intermediate type</th>\n",
       "      <th>evening type</th>\n",
       "      <th>total</th>\n",
       "    </tr>\n",
       "    <tr>\n",
       "      <th>FactType</th>\n",
       "      <th></th>\n",
       "      <th></th>\n",
       "      <th></th>\n",
       "      <th></th>\n",
       "      <th></th>\n",
       "    </tr>\n",
       "  </thead>\n",
       "  <tbody>\n",
       "    <tr>\n",
       "      <th>Science</th>\n",
       "      <td>7251</td>\n",
       "      <td>3407</td>\n",
       "      <td>4923</td>\n",
       "      <td>3250</td>\n",
       "      <td>18831</td>\n",
       "    </tr>\n",
       "    <tr>\n",
       "      <th>Mainstream Media</th>\n",
       "      <td>251854</td>\n",
       "      <td>136038</td>\n",
       "      <td>262554</td>\n",
       "      <td>107215</td>\n",
       "      <td>757661</td>\n",
       "    </tr>\n",
       "    <tr>\n",
       "      <th>Satire</th>\n",
       "      <td>2430</td>\n",
       "      <td>457</td>\n",
       "      <td>961</td>\n",
       "      <td>453</td>\n",
       "      <td>4301</td>\n",
       "    </tr>\n",
       "    <tr>\n",
       "      <th>Clickbait</th>\n",
       "      <td>8769</td>\n",
       "      <td>1063</td>\n",
       "      <td>1369</td>\n",
       "      <td>996</td>\n",
       "      <td>12197</td>\n",
       "    </tr>\n",
       "    <tr>\n",
       "      <th>Other</th>\n",
       "      <td>7536310</td>\n",
       "      <td>2632684</td>\n",
       "      <td>4870705</td>\n",
       "      <td>2171288</td>\n",
       "      <td>17210987</td>\n",
       "    </tr>\n",
       "    <tr>\n",
       "      <th>Political</th>\n",
       "      <td>32948</td>\n",
       "      <td>15982</td>\n",
       "      <td>19658</td>\n",
       "      <td>30112</td>\n",
       "      <td>98700</td>\n",
       "    </tr>\n",
       "    <tr>\n",
       "      <th>Fake or hoax</th>\n",
       "      <td>9876</td>\n",
       "      <td>8429</td>\n",
       "      <td>13287</td>\n",
       "      <td>12296</td>\n",
       "      <td>43888</td>\n",
       "    </tr>\n",
       "    <tr>\n",
       "      <th>Conspiracy &amp; junk science</th>\n",
       "      <td>8771</td>\n",
       "      <td>17827</td>\n",
       "      <td>26198</td>\n",
       "      <td>12865</td>\n",
       "      <td>65661</td>\n",
       "    </tr>\n",
       "    <tr>\n",
       "      <th>potentially disinformative</th>\n",
       "      <td>51595</td>\n",
       "      <td>42238</td>\n",
       "      <td>59143</td>\n",
       "      <td>55273</td>\n",
       "      <td>208249</td>\n",
       "    </tr>\n",
       "    <tr>\n",
       "      <th>total</th>\n",
       "      <td>7858209</td>\n",
       "      <td>2815887</td>\n",
       "      <td>5199655</td>\n",
       "      <td>2338475</td>\n",
       "      <td>18212226</td>\n",
       "    </tr>\n",
       "  </tbody>\n",
       "</table>\n",
       "</div>"
      ],
      "text/plain": [
       "cluster                     infrequent type  morning type  intermediate type  \\\n",
       "FactType                                                                       \n",
       "Science                                7251          3407               4923   \n",
       "Mainstream Media                     251854        136038             262554   \n",
       "Satire                                 2430           457                961   \n",
       "Clickbait                              8769          1063               1369   \n",
       "Other                               7536310       2632684            4870705   \n",
       "Political                             32948         15982              19658   \n",
       "Fake or hoax                           9876          8429              13287   \n",
       "Conspiracy & junk science              8771         17827              26198   \n",
       "potentially disinformative            51595         42238              59143   \n",
       "total                               7858209       2815887            5199655   \n",
       "\n",
       "cluster                     evening type     total  \n",
       "FactType                                            \n",
       "Science                             3250     18831  \n",
       "Mainstream Media                  107215    757661  \n",
       "Satire                               453      4301  \n",
       "Clickbait                            996     12197  \n",
       "Other                            2171288  17210987  \n",
       "Political                          30112     98700  \n",
       "Fake or hoax                       12296     43888  \n",
       "Conspiracy & junk science          12865     65661  \n",
       "potentially disinformative         55273    208249  \n",
       "total                            2338475  18212226  "
      ]
     },
     "execution_count": 6,
     "metadata": {},
     "output_type": "execute_result"
    }
   ],
   "source": [
    "ft_posts_per_cluster.loc[FactTypes.order() + [ContentType.DISINFORMATIVE.value, 'total'], Clusters.total_order()]"
   ]
  },
  {
   "cell_type": "markdown",
   "metadata": {},
   "source": [
    "Cluster ratio as sum of content type over sum of content: $\\frac{\\sum_{t \\in T, \\ i \\in c}|P_{(t,i,f)|} }{\\sum_{t \\in T, \\ i \\in c, f \\in F}|P_{(t,i,f)|}}$"
   ]
  },
  {
   "cell_type": "code",
   "execution_count": 7,
   "metadata": {},
   "outputs": [
    {
     "data": {
      "text/html": [
       "<div>\n",
       "<style scoped>\n",
       "    .dataframe tbody tr th:only-of-type {\n",
       "        vertical-align: middle;\n",
       "    }\n",
       "\n",
       "    .dataframe tbody tr th {\n",
       "        vertical-align: top;\n",
       "    }\n",
       "\n",
       "    .dataframe thead th {\n",
       "        text-align: right;\n",
       "    }\n",
       "</style>\n",
       "<table border=\"1\" class=\"dataframe\">\n",
       "  <thead>\n",
       "    <tr style=\"text-align: right;\">\n",
       "      <th>cluster</th>\n",
       "      <th>infrequent type</th>\n",
       "      <th>morning type</th>\n",
       "      <th>intermediate type</th>\n",
       "      <th>evening type</th>\n",
       "      <th>total</th>\n",
       "    </tr>\n",
       "    <tr>\n",
       "      <th>FactType</th>\n",
       "      <th></th>\n",
       "      <th></th>\n",
       "      <th></th>\n",
       "      <th></th>\n",
       "      <th></th>\n",
       "    </tr>\n",
       "  </thead>\n",
       "  <tbody>\n",
       "    <tr>\n",
       "      <th>Science</th>\n",
       "      <td>0.000923</td>\n",
       "      <td>0.001210</td>\n",
       "      <td>0.000947</td>\n",
       "      <td>0.001390</td>\n",
       "      <td>0.001034</td>\n",
       "    </tr>\n",
       "    <tr>\n",
       "      <th>Mainstream Media</th>\n",
       "      <td>0.032050</td>\n",
       "      <td>0.048311</td>\n",
       "      <td>0.050495</td>\n",
       "      <td>0.045848</td>\n",
       "      <td>0.041602</td>\n",
       "    </tr>\n",
       "    <tr>\n",
       "      <th>Satire</th>\n",
       "      <td>0.000309</td>\n",
       "      <td>0.000162</td>\n",
       "      <td>0.000185</td>\n",
       "      <td>0.000194</td>\n",
       "      <td>0.000236</td>\n",
       "    </tr>\n",
       "    <tr>\n",
       "      <th>Clickbait</th>\n",
       "      <td>0.001116</td>\n",
       "      <td>0.000378</td>\n",
       "      <td>0.000263</td>\n",
       "      <td>0.000426</td>\n",
       "      <td>0.000670</td>\n",
       "    </tr>\n",
       "    <tr>\n",
       "      <th>Other</th>\n",
       "      <td>0.959037</td>\n",
       "      <td>0.934940</td>\n",
       "      <td>0.936736</td>\n",
       "      <td>0.928506</td>\n",
       "      <td>0.945024</td>\n",
       "    </tr>\n",
       "    <tr>\n",
       "      <th>Political</th>\n",
       "      <td>0.004193</td>\n",
       "      <td>0.005676</td>\n",
       "      <td>0.003781</td>\n",
       "      <td>0.012877</td>\n",
       "      <td>0.005419</td>\n",
       "    </tr>\n",
       "    <tr>\n",
       "      <th>Fake or hoax</th>\n",
       "      <td>0.001257</td>\n",
       "      <td>0.002993</td>\n",
       "      <td>0.002555</td>\n",
       "      <td>0.005258</td>\n",
       "      <td>0.002410</td>\n",
       "    </tr>\n",
       "    <tr>\n",
       "      <th>Conspiracy &amp; junk science</th>\n",
       "      <td>0.001116</td>\n",
       "      <td>0.006331</td>\n",
       "      <td>0.005038</td>\n",
       "      <td>0.005501</td>\n",
       "      <td>0.003605</td>\n",
       "    </tr>\n",
       "    <tr>\n",
       "      <th>potentially disinformative</th>\n",
       "      <td>0.006566</td>\n",
       "      <td>0.015000</td>\n",
       "      <td>0.011374</td>\n",
       "      <td>0.023636</td>\n",
       "      <td>0.011435</td>\n",
       "    </tr>\n",
       "  </tbody>\n",
       "</table>\n",
       "</div>"
      ],
      "text/plain": [
       "cluster                     infrequent type  morning type  intermediate type  \\\n",
       "FactType                                                                       \n",
       "Science                            0.000923      0.001210           0.000947   \n",
       "Mainstream Media                   0.032050      0.048311           0.050495   \n",
       "Satire                             0.000309      0.000162           0.000185   \n",
       "Clickbait                          0.001116      0.000378           0.000263   \n",
       "Other                              0.959037      0.934940           0.936736   \n",
       "Political                          0.004193      0.005676           0.003781   \n",
       "Fake or hoax                       0.001257      0.002993           0.002555   \n",
       "Conspiracy & junk science          0.001116      0.006331           0.005038   \n",
       "potentially disinformative         0.006566      0.015000           0.011374   \n",
       "\n",
       "cluster                     evening type     total  \n",
       "FactType                                            \n",
       "Science                         0.001390  0.001034  \n",
       "Mainstream Media                0.045848  0.041602  \n",
       "Satire                          0.000194  0.000236  \n",
       "Clickbait                       0.000426  0.000670  \n",
       "Other                           0.928506  0.945024  \n",
       "Political                       0.012877  0.005419  \n",
       "Fake or hoax                    0.005258  0.002410  \n",
       "Conspiracy & junk science       0.005501  0.003605  \n",
       "potentially disinformative      0.023636  0.011435  "
      ]
     },
     "execution_count": 7,
     "metadata": {},
     "output_type": "execute_result"
    }
   ],
   "source": [
    "ft_posts_per_cluster.div(ft_posts_per_cluster.loc['total'], axis=1).loc[FactTypes.order() + [ContentType.DISINFORMATIVE.value], Clusters.total_order()]"
   ]
  },
  {
   "cell_type": "markdown",
   "metadata": {},
   "source": [
    "### Known fact types only\n",
    "$\\frac{\\sum_{t \\in T, \\ i \\in c}|P_{(t,i,f)|} }{\\sum_{t \\in T, \\ i \\in c, f \\in F^K}|P_{(t,i,f)|}}$"
   ]
  },
  {
   "cell_type": "code",
   "execution_count": 8,
   "metadata": {},
   "outputs": [
    {
     "data": {
      "text/html": [
       "<div>\n",
       "<style scoped>\n",
       "    .dataframe tbody tr th:only-of-type {\n",
       "        vertical-align: middle;\n",
       "    }\n",
       "\n",
       "    .dataframe tbody tr th {\n",
       "        vertical-align: top;\n",
       "    }\n",
       "\n",
       "    .dataframe thead th {\n",
       "        text-align: right;\n",
       "    }\n",
       "</style>\n",
       "<table border=\"1\" class=\"dataframe\">\n",
       "  <thead>\n",
       "    <tr style=\"text-align: right;\">\n",
       "      <th>cluster</th>\n",
       "      <th>infrequent type</th>\n",
       "      <th>morning type</th>\n",
       "      <th>intermediate type</th>\n",
       "      <th>evening type</th>\n",
       "      <th>total</th>\n",
       "    </tr>\n",
       "    <tr>\n",
       "      <th>FactType</th>\n",
       "      <th></th>\n",
       "      <th></th>\n",
       "      <th></th>\n",
       "      <th></th>\n",
       "      <th></th>\n",
       "    </tr>\n",
       "  </thead>\n",
       "  <tbody>\n",
       "    <tr>\n",
       "      <th>Science</th>\n",
       "      <td>0.022526</td>\n",
       "      <td>0.018597</td>\n",
       "      <td>0.014966</td>\n",
       "      <td>0.019439</td>\n",
       "      <td>0.018808</td>\n",
       "    </tr>\n",
       "    <tr>\n",
       "      <th>Mainstream Media</th>\n",
       "      <td>0.782401</td>\n",
       "      <td>0.742553</td>\n",
       "      <td>0.798158</td>\n",
       "      <td>0.641288</td>\n",
       "      <td>0.756723</td>\n",
       "    </tr>\n",
       "    <tr>\n",
       "      <th>Satire</th>\n",
       "      <td>0.007549</td>\n",
       "      <td>0.002495</td>\n",
       "      <td>0.002921</td>\n",
       "      <td>0.002710</td>\n",
       "      <td>0.004296</td>\n",
       "    </tr>\n",
       "    <tr>\n",
       "      <th>Clickbait</th>\n",
       "      <td>0.027241</td>\n",
       "      <td>0.005802</td>\n",
       "      <td>0.004162</td>\n",
       "      <td>0.005957</td>\n",
       "      <td>0.012182</td>\n",
       "    </tr>\n",
       "    <tr>\n",
       "      <th>Political</th>\n",
       "      <td>0.102355</td>\n",
       "      <td>0.087237</td>\n",
       "      <td>0.059760</td>\n",
       "      <td>0.180110</td>\n",
       "      <td>0.098578</td>\n",
       "    </tr>\n",
       "    <tr>\n",
       "      <th>Fake or hoax</th>\n",
       "      <td>0.030680</td>\n",
       "      <td>0.046009</td>\n",
       "      <td>0.040392</td>\n",
       "      <td>0.073546</td>\n",
       "      <td>0.043834</td>\n",
       "    </tr>\n",
       "    <tr>\n",
       "      <th>Conspiracy &amp; junk science</th>\n",
       "      <td>0.027248</td>\n",
       "      <td>0.097307</td>\n",
       "      <td>0.079641</td>\n",
       "      <td>0.076950</td>\n",
       "      <td>0.065580</td>\n",
       "    </tr>\n",
       "    <tr>\n",
       "      <th>potentially disinformative</th>\n",
       "      <td>0.160283</td>\n",
       "      <td>0.230553</td>\n",
       "      <td>0.179793</td>\n",
       "      <td>0.330606</td>\n",
       "      <td>0.207991</td>\n",
       "    </tr>\n",
       "  </tbody>\n",
       "</table>\n",
       "</div>"
      ],
      "text/plain": [
       "cluster                     infrequent type  morning type  intermediate type  \\\n",
       "FactType                                                                       \n",
       "Science                            0.022526      0.018597           0.014966   \n",
       "Mainstream Media                   0.782401      0.742553           0.798158   \n",
       "Satire                             0.007549      0.002495           0.002921   \n",
       "Clickbait                          0.027241      0.005802           0.004162   \n",
       "Political                          0.102355      0.087237           0.059760   \n",
       "Fake or hoax                       0.030680      0.046009           0.040392   \n",
       "Conspiracy & junk science          0.027248      0.097307           0.079641   \n",
       "potentially disinformative         0.160283      0.230553           0.179793   \n",
       "\n",
       "cluster                     evening type     total  \n",
       "FactType                                            \n",
       "Science                         0.019439  0.018808  \n",
       "Mainstream Media                0.641288  0.756723  \n",
       "Satire                          0.002710  0.004296  \n",
       "Clickbait                       0.005957  0.012182  \n",
       "Political                       0.180110  0.098578  \n",
       "Fake or hoax                    0.073546  0.043834  \n",
       "Conspiracy & junk science       0.076950  0.065580  \n",
       "potentially disinformative      0.330606  0.207991  "
      ]
     },
     "execution_count": 8,
     "metadata": {},
     "output_type": "execute_result"
    }
   ],
   "source": [
    "ft_posts_per_cluster.div(ft_posts_per_cluster.loc[ContentType.KNOWN.value], axis=1).loc[FactTypes.known_order() + [ContentType.DISINFORMATIVE.value], Clusters.total_order()]"
   ]
  },
  {
   "cell_type": "markdown",
   "metadata": {},
   "source": [
    "#### $\\chi^2-Test$ \n",
    "<p id=\"Chi2Disinf\">Mentioned in Evening types spread most potentially disinformative content, infrequent posters the least</p>"
   ]
  },
  {
   "cell_type": "markdown",
   "metadata": {},
   "source": [
    "Evening types post significantly more potentially machinated content than the other clusters, particularly fake or hoax content and politically biased news. Infrequent type users post disproportionately much Clickbait."
   ]
  },
  {
   "cell_type": "code",
   "execution_count": 9,
   "metadata": {},
   "outputs": [],
   "source": [
    "chi2mp=pd.DataFrame(index=[ContentType.DISINFORMATIVE.value, Columns.FACTTYPE.value], columns=['Chi2', 'P-value'])\n",
    "chi2mp.loc[ContentType.DISINFORMATIVE.value] = chi2_contingency(ft_posts_per_cluster.loc[[ContentType.DISINFORMATIVE.value, ContentType.CLEAR.value], Clusters.order()])[:2]\n",
    "chi2mp.loc[Columns.FACTTYPE.value] = chi2_contingency(ft_posts_per_cluster.loc[FactTypes.known_order(), Clusters.order()])[:2]"
   ]
  },
  {
   "cell_type": "code",
   "execution_count": 10,
   "metadata": {},
   "outputs": [
    {
     "data": {
      "text/html": [
       "<style type=\"text/css\">\n",
       "</style>\n",
       "<table id=\"T_5b7de\">\n",
       "  <thead>\n",
       "    <tr>\n",
       "      <th class=\"blank level0\" >&nbsp;</th>\n",
       "      <th id=\"T_5b7de_level0_col0\" class=\"col_heading level0 col0\" >Chi2</th>\n",
       "      <th id=\"T_5b7de_level0_col1\" class=\"col_heading level0 col1\" >P-value</th>\n",
       "    </tr>\n",
       "  </thead>\n",
       "  <tbody>\n",
       "    <tr>\n",
       "      <th id=\"T_5b7de_level0_row0\" class=\"row_heading level0 row0\" >potentially disinformative</th>\n",
       "      <td id=\"T_5b7de_row0_col0\" class=\"data row0 col0\" >21860.01</td>\n",
       "      <td id=\"T_5b7de_row0_col1\" class=\"data row0 col1\" >0.0e+00</td>\n",
       "    </tr>\n",
       "    <tr>\n",
       "      <th id=\"T_5b7de_level0_row1\" class=\"row_heading level0 row1\" >FactType</th>\n",
       "      <td id=\"T_5b7de_row1_col0\" class=\"data row1 col0\" >47245.84</td>\n",
       "      <td id=\"T_5b7de_row1_col1\" class=\"data row1 col1\" >0.0e+00</td>\n",
       "    </tr>\n",
       "  </tbody>\n",
       "</table>\n"
      ],
      "text/plain": [
       "<pandas.io.formats.style.Styler at 0x7feee7f9bbe0>"
      ]
     },
     "execution_count": 10,
     "metadata": {},
     "output_type": "execute_result"
    }
   ],
   "source": [
    "chi2mp_style = chi2mp.style.format('{:.2f}').format('{:.1e}', subset='P-value')\n",
    "save_to_latex(config, chi2mp_style, 'chi_square_content_types', caption=r\"Chi Square test of difference in distributions in between content types.\", is_multi_index=True)\n",
    "chi2mp_style"
   ]
  },
  {
   "cell_type": "markdown",
   "metadata": {},
   "source": [
    " The p-values are smaller than 0.05 and therefore tells us that the clusters show statistically significant differences in their distributions between content types.\n",
    "Our null hypothesis (user cluster and spreading of harmful content/content types are independent) can be rejected."
   ]
  },
  {
   "cell_type": "markdown",
   "metadata": {},
   "source": [
    "### Aggregated per user and averaged over cluster\n",
    "cluster ratio an average of user ratios: $r(f,c) = \\frac{1}{|c|} \\sum_{i \\in c} \\frac{\\sum_{t \\in T}|P_{(t,i,f)|} }{\\sum_{t \\in T, g \\in F^K}|P_{(t,i,g)|}}$"
   ]
  },
  {
   "cell_type": "code",
   "execution_count": 11,
   "metadata": {},
   "outputs": [
    {
     "data": {
      "text/html": [
       "<div>\n",
       "<style scoped>\n",
       "    .dataframe tbody tr th:only-of-type {\n",
       "        vertical-align: middle;\n",
       "    }\n",
       "\n",
       "    .dataframe tbody tr th {\n",
       "        vertical-align: top;\n",
       "    }\n",
       "\n",
       "    .dataframe thead th {\n",
       "        text-align: right;\n",
       "    }\n",
       "</style>\n",
       "<table border=\"1\" class=\"dataframe\">\n",
       "  <thead>\n",
       "    <tr style=\"text-align: right;\">\n",
       "      <th>FactType</th>\n",
       "      <th>Science</th>\n",
       "      <th>Mainstream Media</th>\n",
       "      <th>Satire</th>\n",
       "      <th>Clickbait</th>\n",
       "      <th>Political</th>\n",
       "      <th>Fake or hoax</th>\n",
       "      <th>Conspiracy &amp; junk science</th>\n",
       "      <th>potentially disinformative</th>\n",
       "    </tr>\n",
       "    <tr>\n",
       "      <th>userhash</th>\n",
       "      <th></th>\n",
       "      <th></th>\n",
       "      <th></th>\n",
       "      <th></th>\n",
       "      <th></th>\n",
       "      <th></th>\n",
       "      <th></th>\n",
       "      <th></th>\n",
       "    </tr>\n",
       "  </thead>\n",
       "  <tbody>\n",
       "    <tr>\n",
       "      <th>infrequent type</th>\n",
       "      <td>0.022649</td>\n",
       "      <td>0.760615</td>\n",
       "      <td>0.008491</td>\n",
       "      <td>0.041109</td>\n",
       "      <td>0.121679</td>\n",
       "      <td>0.026584</td>\n",
       "      <td>0.018873</td>\n",
       "      <td>0.167137</td>\n",
       "    </tr>\n",
       "    <tr>\n",
       "      <th>morning type</th>\n",
       "      <td>0.020301</td>\n",
       "      <td>0.763024</td>\n",
       "      <td>0.005028</td>\n",
       "      <td>0.008257</td>\n",
       "      <td>0.080250</td>\n",
       "      <td>0.045403</td>\n",
       "      <td>0.077738</td>\n",
       "      <td>0.203391</td>\n",
       "    </tr>\n",
       "    <tr>\n",
       "      <th>intermediate type</th>\n",
       "      <td>0.019924</td>\n",
       "      <td>0.785881</td>\n",
       "      <td>0.006613</td>\n",
       "      <td>0.005750</td>\n",
       "      <td>0.069360</td>\n",
       "      <td>0.040522</td>\n",
       "      <td>0.071950</td>\n",
       "      <td>0.181832</td>\n",
       "    </tr>\n",
       "    <tr>\n",
       "      <th>evening type</th>\n",
       "      <td>0.021746</td>\n",
       "      <td>0.668707</td>\n",
       "      <td>0.003681</td>\n",
       "      <td>0.008756</td>\n",
       "      <td>0.174236</td>\n",
       "      <td>0.061355</td>\n",
       "      <td>0.061519</td>\n",
       "      <td>0.297110</td>\n",
       "    </tr>\n",
       "    <tr>\n",
       "      <th>total</th>\n",
       "      <td>0.022481</td>\n",
       "      <td>0.759755</td>\n",
       "      <td>0.008251</td>\n",
       "      <td>0.038464</td>\n",
       "      <td>0.119919</td>\n",
       "      <td>0.028194</td>\n",
       "      <td>0.022936</td>\n",
       "      <td>0.171049</td>\n",
       "    </tr>\n",
       "  </tbody>\n",
       "</table>\n",
       "</div>"
      ],
      "text/plain": [
       "FactType            Science  Mainstream Media    Satire  Clickbait  Political  \\\n",
       "userhash                                                                        \n",
       "infrequent type    0.022649          0.760615  0.008491   0.041109   0.121679   \n",
       "morning type       0.020301          0.763024  0.005028   0.008257   0.080250   \n",
       "intermediate type  0.019924          0.785881  0.006613   0.005750   0.069360   \n",
       "evening type       0.021746          0.668707  0.003681   0.008756   0.174236   \n",
       "total              0.022481          0.759755  0.008251   0.038464   0.119919   \n",
       "\n",
       "FactType           Fake or hoax  Conspiracy & junk science  \\\n",
       "userhash                                                     \n",
       "infrequent type        0.026584                   0.018873   \n",
       "morning type           0.045403                   0.077738   \n",
       "intermediate type      0.040522                   0.071950   \n",
       "evening type           0.061355                   0.061519   \n",
       "total                  0.028194                   0.022936   \n",
       "\n",
       "FactType           potentially disinformative  \n",
       "userhash                                       \n",
       "infrequent type                      0.167137  \n",
       "morning type                         0.203391  \n",
       "intermediate type                    0.181832  \n",
       "evening type                         0.297110  \n",
       "total                                0.171049  "
      ]
     },
     "execution_count": 11,
     "metadata": {},
     "output_type": "execute_result"
    }
   ],
   "source": [
    "ratio_of_known_per_user_ft = processor.posts_per_user_ft.div(processor.posts_per_user_ft[ContentType.KNOWN.value], axis=0).dropna()[FactTypes.known_order() + [ContentType.DISINFORMATIVE.value]]\n",
    "ratio_of_known_per_user_cluster_ft = groupby_with_total(ratio_of_known_per_user_ft, [user_mapping(ratio_of_known_per_user_ft, processor.cluster_cols['all'])], 'mean').loc[Clusters.total_order(), FactTypes.known_order() + [ContentType.DISINFORMATIVE.value]]\n",
    "ratio_of_known_per_user_cluster_ft"
   ]
  },
  {
   "cell_type": "markdown",
   "metadata": {},
   "source": [
    "## User statistics per fact type"
   ]
  },
  {
   "cell_type": "code",
   "execution_count": 12,
   "metadata": {},
   "outputs": [],
   "source": [
    "def sum_mean_median_agg(x, all_posts_per_user):\n",
    "    group_posts = all_posts_per_user.loc[x.index.get_level_values(Columns.USERHASH.value)].repeat(x.values)\n",
    "    return pd.Series([x.sum(), group_posts.mean(), group_posts.median()], index=['total posts', 'mean posts per author', 'median posts per author'], name='stats')"
   ]
  },
  {
   "cell_type": "code",
   "execution_count": 13,
   "metadata": {},
   "outputs": [],
   "source": [
    "facttype_stats = (processor\n",
    "    .posts_per_user_ft[FactTypes.known_order('name') + [ContentType.DISINFORMATIVE.value]]\n",
    "    .apply(lambda x: sum_mean_median_agg(x, processor.posts_per_user_ft['total']))\n",
    ")"
   ]
  },
  {
   "cell_type": "markdown",
   "metadata": {},
   "source": [
    "<p id=\"SupplTab2\">Supplementary Table 1</p>"
   ]
  },
  {
   "cell_type": "code",
   "execution_count": 14,
   "metadata": {},
   "outputs": [
    {
     "data": {
      "text/html": [
       "<style type=\"text/css\">\n",
       "</style>\n",
       "<table id=\"T_e1e65\">\n",
       "  <thead>\n",
       "    <tr>\n",
       "      <th class=\"blank level0\" >&nbsp;</th>\n",
       "      <th id=\"T_e1e65_level0_col0\" class=\"col_heading level0 col0\" >total posts</th>\n",
       "      <th id=\"T_e1e65_level0_col1\" class=\"col_heading level0 col1\" >mean posts per author</th>\n",
       "      <th id=\"T_e1e65_level0_col2\" class=\"col_heading level0 col2\" >median posts per author</th>\n",
       "      <th id=\"T_e1e65_level0_col3\" class=\"col_heading level0 col3\" >infrequent</th>\n",
       "      <th id=\"T_e1e65_level0_col4\" class=\"col_heading level0 col4\" >morning</th>\n",
       "      <th id=\"T_e1e65_level0_col5\" class=\"col_heading level0 col5\" >intermediate</th>\n",
       "      <th id=\"T_e1e65_level0_col6\" class=\"col_heading level0 col6\" >evening</th>\n",
       "    </tr>\n",
       "    <tr>\n",
       "      <th class=\"index_name level0\" >FactType</th>\n",
       "      <th class=\"blank col0\" >&nbsp;</th>\n",
       "      <th class=\"blank col1\" >&nbsp;</th>\n",
       "      <th class=\"blank col2\" >&nbsp;</th>\n",
       "      <th class=\"blank col3\" >&nbsp;</th>\n",
       "      <th class=\"blank col4\" >&nbsp;</th>\n",
       "      <th class=\"blank col5\" >&nbsp;</th>\n",
       "      <th class=\"blank col6\" >&nbsp;</th>\n",
       "    </tr>\n",
       "  </thead>\n",
       "  <tbody>\n",
       "    <tr>\n",
       "      <th id=\"T_e1e65_level0_row0\" class=\"row_heading level0 row0\" >Science</th>\n",
       "      <td id=\"T_e1e65_row0_col0\" class=\"data row0 col0\" >18,831</td>\n",
       "      <td id=\"T_e1e65_row0_col1\" class=\"data row0 col1\" >2,261</td>\n",
       "      <td id=\"T_e1e65_row0_col2\" class=\"data row0 col2\" >484</td>\n",
       "      <td id=\"T_e1e65_row0_col3\" class=\"data row0 col3\" >0.023</td>\n",
       "      <td id=\"T_e1e65_row0_col4\" class=\"data row0 col4\" >0.020</td>\n",
       "      <td id=\"T_e1e65_row0_col5\" class=\"data row0 col5\" >0.020</td>\n",
       "      <td id=\"T_e1e65_row0_col6\" class=\"data row0 col6\" >0.022</td>\n",
       "    </tr>\n",
       "    <tr>\n",
       "      <th id=\"T_e1e65_level0_row1\" class=\"row_heading level0 row1\" >Mainstream Media</th>\n",
       "      <td id=\"T_e1e65_row1_col0\" class=\"data row1 col0\" >757,661</td>\n",
       "      <td id=\"T_e1e65_row1_col1\" class=\"data row1 col1\" >2,682</td>\n",
       "      <td id=\"T_e1e65_row1_col2\" class=\"data row1 col2\" >672</td>\n",
       "      <td id=\"T_e1e65_row1_col3\" class=\"data row1 col3\" >0.761</td>\n",
       "      <td id=\"T_e1e65_row1_col4\" class=\"data row1 col4\" >0.763</td>\n",
       "      <td id=\"T_e1e65_row1_col5\" class=\"data row1 col5\" >0.786</td>\n",
       "      <td id=\"T_e1e65_row1_col6\" class=\"data row1 col6\" >0.669</td>\n",
       "    </tr>\n",
       "    <tr>\n",
       "      <th id=\"T_e1e65_level0_row2\" class=\"row_heading level0 row2\" >Satire</th>\n",
       "      <td id=\"T_e1e65_row2_col0\" class=\"data row2 col0\" >4,301</td>\n",
       "      <td id=\"T_e1e65_row2_col1\" class=\"data row2 col1\" >734</td>\n",
       "      <td id=\"T_e1e65_row2_col2\" class=\"data row2 col2\" >170</td>\n",
       "      <td id=\"T_e1e65_row2_col3\" class=\"data row2 col3\" >0.008</td>\n",
       "      <td id=\"T_e1e65_row2_col4\" class=\"data row2 col4\" >0.005</td>\n",
       "      <td id=\"T_e1e65_row2_col5\" class=\"data row2 col5\" >0.007</td>\n",
       "      <td id=\"T_e1e65_row2_col6\" class=\"data row2 col6\" >0.004</td>\n",
       "    </tr>\n",
       "    <tr>\n",
       "      <th id=\"T_e1e65_level0_row3\" class=\"row_heading level0 row3\" >Clickbait</th>\n",
       "      <td id=\"T_e1e65_row3_col0\" class=\"data row3 col0\" >12,197</td>\n",
       "      <td id=\"T_e1e65_row3_col1\" class=\"data row3 col1\" >735</td>\n",
       "      <td id=\"T_e1e65_row3_col2\" class=\"data row3 col2\" >39</td>\n",
       "      <td id=\"T_e1e65_row3_col3\" class=\"data row3 col3\" >0.041</td>\n",
       "      <td id=\"T_e1e65_row3_col4\" class=\"data row3 col4\" >0.008</td>\n",
       "      <td id=\"T_e1e65_row3_col5\" class=\"data row3 col5\" >0.006</td>\n",
       "      <td id=\"T_e1e65_row3_col6\" class=\"data row3 col6\" >0.009</td>\n",
       "    </tr>\n",
       "    <tr>\n",
       "      <th id=\"T_e1e65_level0_row4\" class=\"row_heading level0 row4\" >Political</th>\n",
       "      <td id=\"T_e1e65_row4_col0\" class=\"data row4 col0\" >98,700</td>\n",
       "      <td id=\"T_e1e65_row4_col1\" class=\"data row4 col1\" >2,755</td>\n",
       "      <td id=\"T_e1e65_row4_col2\" class=\"data row4 col2\" >721</td>\n",
       "      <td id=\"T_e1e65_row4_col3\" class=\"data row4 col3\" >0.122</td>\n",
       "      <td id=\"T_e1e65_row4_col4\" class=\"data row4 col4\" >0.080</td>\n",
       "      <td id=\"T_e1e65_row4_col5\" class=\"data row4 col5\" >0.069</td>\n",
       "      <td id=\"T_e1e65_row4_col6\" class=\"data row4 col6\" >0.174</td>\n",
       "    </tr>\n",
       "    <tr>\n",
       "      <th id=\"T_e1e65_level0_row5\" class=\"row_heading level0 row5\" >Fake or hoax</th>\n",
       "      <td id=\"T_e1e65_row5_col0\" class=\"data row5 col0\" >43,888</td>\n",
       "      <td id=\"T_e1e65_row5_col1\" class=\"data row5 col1\" >2,601</td>\n",
       "      <td id=\"T_e1e65_row5_col2\" class=\"data row5 col2\" >1,143</td>\n",
       "      <td id=\"T_e1e65_row5_col3\" class=\"data row5 col3\" >0.027</td>\n",
       "      <td id=\"T_e1e65_row5_col4\" class=\"data row5 col4\" >0.045</td>\n",
       "      <td id=\"T_e1e65_row5_col5\" class=\"data row5 col5\" >0.041</td>\n",
       "      <td id=\"T_e1e65_row5_col6\" class=\"data row5 col6\" >0.061</td>\n",
       "    </tr>\n",
       "    <tr>\n",
       "      <th id=\"T_e1e65_level0_row6\" class=\"row_heading level0 row6\" >Conspiracy & junk science</th>\n",
       "      <td id=\"T_e1e65_row6_col0\" class=\"data row6 col0\" >65,661</td>\n",
       "      <td id=\"T_e1e65_row6_col1\" class=\"data row6 col1\" >4,275</td>\n",
       "      <td id=\"T_e1e65_row6_col2\" class=\"data row6 col2\" >1,679</td>\n",
       "      <td id=\"T_e1e65_row6_col3\" class=\"data row6 col3\" >0.019</td>\n",
       "      <td id=\"T_e1e65_row6_col4\" class=\"data row6 col4\" >0.078</td>\n",
       "      <td id=\"T_e1e65_row6_col5\" class=\"data row6 col5\" >0.072</td>\n",
       "      <td id=\"T_e1e65_row6_col6\" class=\"data row6 col6\" >0.062</td>\n",
       "    </tr>\n",
       "    <tr>\n",
       "      <th id=\"T_e1e65_level0_row7\" class=\"row_heading level0 row7\" >potentially disinformative</th>\n",
       "      <td id=\"T_e1e65_row7_col0\" class=\"data row7 col0\" >208,249</td>\n",
       "      <td id=\"T_e1e65_row7_col1\" class=\"data row7 col1\" >3,202</td>\n",
       "      <td id=\"T_e1e65_row7_col2\" class=\"data row7 col2\" >1,110</td>\n",
       "      <td id=\"T_e1e65_row7_col3\" class=\"data row7 col3\" >0.167</td>\n",
       "      <td id=\"T_e1e65_row7_col4\" class=\"data row7 col4\" >0.203</td>\n",
       "      <td id=\"T_e1e65_row7_col5\" class=\"data row7 col5\" >0.182</td>\n",
       "      <td id=\"T_e1e65_row7_col6\" class=\"data row7 col6\" >0.297</td>\n",
       "    </tr>\n",
       "  </tbody>\n",
       "</table>\n"
      ],
      "text/plain": [
       "<pandas.io.formats.style.Styler at 0x7feead91da60>"
      ]
     },
     "execution_count": 14,
     "metadata": {},
     "output_type": "execute_result"
    }
   ],
   "source": [
    "facttype_stats_style = (\n",
    "    pd.concat([facttype_stats, ratio_of_known_per_user_cluster_ft]).T.iloc[:,:-1]\n",
    "    .rename(columns={c:c.split()[0] for c in Clusters.order()})\n",
    "    .style\n",
    "    .format('{:,.3f}', na_rep=\"-\")\n",
    "    .format('{:,.0f}', subset=facttype_stats.index)\n",
    ")\n",
    "save_to_latex(config, facttype_stats_style, 'suppl_tab_1_content_type', caption=r\"Ratios of posts by content type and cluster. Ratios are averaged per user.\")\n",
    "facttype_stats_style"
   ]
  },
  {
   "cell_type": "markdown",
   "metadata": {
    "pycharm": {
     "name": "#%% md\n"
    }
   },
   "source": [
    "## Verified/Unverified and FactType counts and ratios"
   ]
  },
  {
   "cell_type": "code",
   "execution_count": 15,
   "metadata": {},
   "outputs": [
    {
     "data": {
      "text/html": [
       "<div>\n",
       "<style scoped>\n",
       "    .dataframe tbody tr th:only-of-type {\n",
       "        vertical-align: middle;\n",
       "    }\n",
       "\n",
       "    .dataframe tbody tr th {\n",
       "        vertical-align: top;\n",
       "    }\n",
       "\n",
       "    .dataframe thead th {\n",
       "        text-align: right;\n",
       "    }\n",
       "</style>\n",
       "<table border=\"1\" class=\"dataframe\">\n",
       "  <thead>\n",
       "    <tr style=\"text-align: right;\">\n",
       "      <th>verified</th>\n",
       "      <th>False</th>\n",
       "      <th>True</th>\n",
       "      <th>total</th>\n",
       "    </tr>\n",
       "    <tr>\n",
       "      <th>FactType</th>\n",
       "      <th></th>\n",
       "      <th></th>\n",
       "      <th></th>\n",
       "    </tr>\n",
       "  </thead>\n",
       "  <tbody>\n",
       "    <tr>\n",
       "      <th>Science</th>\n",
       "      <td>0.001042</td>\n",
       "      <td>0.000650</td>\n",
       "      <td>0.001034</td>\n",
       "    </tr>\n",
       "    <tr>\n",
       "      <th>Mainstream Media</th>\n",
       "      <td>0.040296</td>\n",
       "      <td>0.106360</td>\n",
       "      <td>0.041602</td>\n",
       "    </tr>\n",
       "    <tr>\n",
       "      <th>Satire</th>\n",
       "      <td>0.000240</td>\n",
       "      <td>0.000033</td>\n",
       "      <td>0.000236</td>\n",
       "    </tr>\n",
       "    <tr>\n",
       "      <th>Clickbait</th>\n",
       "      <td>0.000683</td>\n",
       "      <td>0.000022</td>\n",
       "      <td>0.000670</td>\n",
       "    </tr>\n",
       "    <tr>\n",
       "      <th>Other</th>\n",
       "      <td>0.946117</td>\n",
       "      <td>0.890780</td>\n",
       "      <td>0.945024</td>\n",
       "    </tr>\n",
       "    <tr>\n",
       "      <th>Political</th>\n",
       "      <td>0.005501</td>\n",
       "      <td>0.001384</td>\n",
       "      <td>0.005419</td>\n",
       "    </tr>\n",
       "    <tr>\n",
       "      <th>Fake or hoax</th>\n",
       "      <td>0.002449</td>\n",
       "      <td>0.000478</td>\n",
       "      <td>0.002410</td>\n",
       "    </tr>\n",
       "    <tr>\n",
       "      <th>Conspiracy &amp; junk science</th>\n",
       "      <td>0.003672</td>\n",
       "      <td>0.000292</td>\n",
       "      <td>0.003605</td>\n",
       "    </tr>\n",
       "    <tr>\n",
       "      <th>potentially disinformative</th>\n",
       "      <td>0.011622</td>\n",
       "      <td>0.002154</td>\n",
       "      <td>0.011435</td>\n",
       "    </tr>\n",
       "  </tbody>\n",
       "</table>\n",
       "</div>"
      ],
      "text/plain": [
       "verified                       False      True     total\n",
       "FactType                                                \n",
       "Science                     0.001042  0.000650  0.001034\n",
       "Mainstream Media            0.040296  0.106360  0.041602\n",
       "Satire                      0.000240  0.000033  0.000236\n",
       "Clickbait                   0.000683  0.000022  0.000670\n",
       "Other                       0.946117  0.890780  0.945024\n",
       "Political                   0.005501  0.001384  0.005419\n",
       "Fake or hoax                0.002449  0.000478  0.002410\n",
       "Conspiracy & junk science   0.003672  0.000292  0.003605\n",
       "potentially disinformative  0.011622  0.002154  0.011435"
      ]
     },
     "execution_count": 15,
     "metadata": {},
     "output_type": "execute_result"
    }
   ],
   "source": [
    "posts_per_verified_ft = pd.crosstab(\n",
    "    processor.data.index.get_level_values(Columns.FACTTYPE.value),  \n",
    "    processor.data.index.get_level_values(Columns.VERIFIED.value), \n",
    "    rownames=[Columns.FACTTYPE.value],\n",
    "    colnames=[Columns.VERIFIED.value],\n",
    "    values=processor.data[Columns.POSTS.value].to_numpy(), margins=True, dropna=False, aggfunc=sum, margins_name='total'\n",
    ")\n",
    "posts_per_verified_ft.loc[ContentType.DISINFORMATIVE.value] = posts_per_verified_ft.loc[FactTypes.disinformative_order()].sum(axis=0)\n",
    "posts_per_verified_ft.div(posts_per_verified_ft.loc['total'], axis=1).loc[FactTypes.order() + [ContentType.DISINFORMATIVE.value], :]"
   ]
  },
  {
   "cell_type": "markdown",
   "metadata": {},
   "source": [
    "### Known FactTypes only"
   ]
  },
  {
   "cell_type": "code",
   "execution_count": 16,
   "metadata": {},
   "outputs": [
    {
     "data": {
      "text/html": [
       "<div>\n",
       "<style scoped>\n",
       "    .dataframe tbody tr th:only-of-type {\n",
       "        vertical-align: middle;\n",
       "    }\n",
       "\n",
       "    .dataframe tbody tr th {\n",
       "        vertical-align: top;\n",
       "    }\n",
       "\n",
       "    .dataframe thead th {\n",
       "        text-align: right;\n",
       "    }\n",
       "</style>\n",
       "<table border=\"1\" class=\"dataframe\">\n",
       "  <thead>\n",
       "    <tr style=\"text-align: right;\">\n",
       "      <th>verified</th>\n",
       "      <th>False</th>\n",
       "      <th>True</th>\n",
       "      <th>total</th>\n",
       "    </tr>\n",
       "    <tr>\n",
       "      <th>FactType</th>\n",
       "      <th></th>\n",
       "      <th></th>\n",
       "      <th></th>\n",
       "    </tr>\n",
       "  </thead>\n",
       "  <tbody>\n",
       "    <tr>\n",
       "      <th>Science</th>\n",
       "      <td>0.019333</td>\n",
       "      <td>0.005954</td>\n",
       "      <td>0.018808</td>\n",
       "    </tr>\n",
       "    <tr>\n",
       "      <th>Mainstream Media</th>\n",
       "      <td>0.747854</td>\n",
       "      <td>0.973818</td>\n",
       "      <td>0.756723</td>\n",
       "    </tr>\n",
       "    <tr>\n",
       "      <th>Satire</th>\n",
       "      <td>0.004459</td>\n",
       "      <td>0.000305</td>\n",
       "      <td>0.004296</td>\n",
       "    </tr>\n",
       "    <tr>\n",
       "      <th>Clickbait</th>\n",
       "      <td>0.012671</td>\n",
       "      <td>0.000204</td>\n",
       "      <td>0.012182</td>\n",
       "    </tr>\n",
       "    <tr>\n",
       "      <th>Political</th>\n",
       "      <td>0.102088</td>\n",
       "      <td>0.012671</td>\n",
       "      <td>0.098578</td>\n",
       "    </tr>\n",
       "    <tr>\n",
       "      <th>Fake or hoax</th>\n",
       "      <td>0.045446</td>\n",
       "      <td>0.004376</td>\n",
       "      <td>0.043834</td>\n",
       "    </tr>\n",
       "    <tr>\n",
       "      <th>Conspiracy &amp; junk science</th>\n",
       "      <td>0.068150</td>\n",
       "      <td>0.002672</td>\n",
       "      <td>0.065580</td>\n",
       "    </tr>\n",
       "    <tr>\n",
       "      <th>potentially disinformative</th>\n",
       "      <td>0.215684</td>\n",
       "      <td>0.019719</td>\n",
       "      <td>0.207991</td>\n",
       "    </tr>\n",
       "  </tbody>\n",
       "</table>\n",
       "</div>"
      ],
      "text/plain": [
       "verified                       False      True     total\n",
       "FactType                                                \n",
       "Science                     0.019333  0.005954  0.018808\n",
       "Mainstream Media            0.747854  0.973818  0.756723\n",
       "Satire                      0.004459  0.000305  0.004296\n",
       "Clickbait                   0.012671  0.000204  0.012182\n",
       "Political                   0.102088  0.012671  0.098578\n",
       "Fake or hoax                0.045446  0.004376  0.043834\n",
       "Conspiracy & junk science   0.068150  0.002672  0.065580\n",
       "potentially disinformative  0.215684  0.019719  0.207991"
      ]
     },
     "execution_count": 16,
     "metadata": {},
     "output_type": "execute_result"
    }
   ],
   "source": [
    "ratio_of_known_per_tweet_ft_verified = posts_per_verified_ft.div(posts_per_verified_ft.loc[FactTypes.known_order()].sum(axis=0), axis=1)\n",
    "ratio_of_known_per_tweet_ft_verified.loc[FactTypes.known_order() + [ContentType.DISINFORMATIVE.value], :]"
   ]
  },
  {
   "cell_type": "markdown",
   "metadata": {},
   "source": [
    "### aggregated by user and averaged over verified/unverified\n",
    "There are some users whose verification status changed. Therefore we must repeat the aggregation process."
   ]
  },
  {
   "cell_type": "code",
   "execution_count": 17,
   "metadata": {},
   "outputs": [],
   "source": [
    "posts_per_user_ft_verified = (\n",
    "    processor.data[Columns.POSTS.value]\n",
    "    .groupby([Columns.VERIFIED.value, Columns.USERHASH.value, Columns.FACTTYPE.value]).sum()\n",
    "    .unstack(level=Columns.FACTTYPE.value, fill_value=0)\n",
    ")\n",
    "posts_per_user_ft_verified[ContentType.DISINFORMATIVE.value] = posts_per_user_ft_verified[FactTypes.disinformative_order()].sum(axis=1)"
   ]
  },
  {
   "cell_type": "code",
   "execution_count": 18,
   "metadata": {},
   "outputs": [],
   "source": [
    "ratio_of_known_per_user_ft_verified = groupby_with_total(\n",
    "    posts_per_user_ft_verified.div(posts_per_user_ft_verified[FactTypes.known_order()].sum(axis=1), axis=0).dropna(), \n",
    "    [Columns.VERIFIED.value], 'mean')"
   ]
  },
  {
   "cell_type": "code",
   "execution_count": 19,
   "metadata": {},
   "outputs": [],
   "source": [
    "ratios_by_verified = (pd.concat([ratio_of_known_per_tweet_ft_verified, ratio_of_known_per_user_ft_verified.T], keys=['ratio by tweet', 'ratio by user'], axis=1)\n",
    "    .rename(columns={True: 'verified', False: 'unverified'})\n",
    "    .loc[FactTypes.known_order() + [ContentType.DISINFORMATIVE.value], pd.IndexSlice[['ratio by tweet', 'ratio by user'], ['unverified', 'verified']]]\n",
    ")"
   ]
  },
  {
   "cell_type": "markdown",
   "metadata": {
    "pycharm": {
     "name": "#%% md\n"
    }
   },
   "source": [
    "<p id=\"SupplTab16\">Supplementary Table 6</p>"
   ]
  },
  {
   "cell_type": "code",
   "execution_count": 20,
   "metadata": {},
   "outputs": [
    {
     "data": {
      "text/html": [
       "<style type=\"text/css\">\n",
       "</style>\n",
       "<table id=\"T_5ea01\">\n",
       "  <thead>\n",
       "    <tr>\n",
       "      <th class=\"blank level0\" >&nbsp;</th>\n",
       "      <th id=\"T_5ea01_level0_col0\" class=\"col_heading level0 col0\" colspan=\"2\">ratio by tweet</th>\n",
       "      <th id=\"T_5ea01_level0_col2\" class=\"col_heading level0 col2\" colspan=\"2\">ratio by user</th>\n",
       "    </tr>\n",
       "    <tr>\n",
       "      <th class=\"index_name level1\" >verified</th>\n",
       "      <th id=\"T_5ea01_level1_col0\" class=\"col_heading level1 col0\" >unverified</th>\n",
       "      <th id=\"T_5ea01_level1_col1\" class=\"col_heading level1 col1\" >verified</th>\n",
       "      <th id=\"T_5ea01_level1_col2\" class=\"col_heading level1 col2\" >unverified</th>\n",
       "      <th id=\"T_5ea01_level1_col3\" class=\"col_heading level1 col3\" >verified</th>\n",
       "    </tr>\n",
       "    <tr>\n",
       "      <th class=\"index_name level0\" >FactType</th>\n",
       "      <th class=\"blank col0\" >&nbsp;</th>\n",
       "      <th class=\"blank col1\" >&nbsp;</th>\n",
       "      <th class=\"blank col2\" >&nbsp;</th>\n",
       "      <th class=\"blank col3\" >&nbsp;</th>\n",
       "    </tr>\n",
       "  </thead>\n",
       "  <tbody>\n",
       "    <tr>\n",
       "      <th id=\"T_5ea01_level0_row0\" class=\"row_heading level0 row0\" >Science</th>\n",
       "      <td id=\"T_5ea01_row0_col0\" class=\"data row0 col0\" >0.019</td>\n",
       "      <td id=\"T_5ea01_row0_col1\" class=\"data row0 col1\" >0.006</td>\n",
       "      <td id=\"T_5ea01_row0_col2\" class=\"data row0 col2\" >0.022</td>\n",
       "      <td id=\"T_5ea01_row0_col3\" class=\"data row0 col3\" >0.032</td>\n",
       "    </tr>\n",
       "    <tr>\n",
       "      <th id=\"T_5ea01_level0_row1\" class=\"row_heading level0 row1\" >Mainstream Media</th>\n",
       "      <td id=\"T_5ea01_row1_col0\" class=\"data row1 col0\" >0.748</td>\n",
       "      <td id=\"T_5ea01_row1_col1\" class=\"data row1 col1\" >0.974</td>\n",
       "      <td id=\"T_5ea01_row1_col2\" class=\"data row1 col2\" >0.759</td>\n",
       "      <td id=\"T_5ea01_row1_col3\" class=\"data row1 col3\" >0.872</td>\n",
       "    </tr>\n",
       "    <tr>\n",
       "      <th id=\"T_5ea01_level0_row2\" class=\"row_heading level0 row2\" >Satire</th>\n",
       "      <td id=\"T_5ea01_row2_col0\" class=\"data row2 col0\" >0.004</td>\n",
       "      <td id=\"T_5ea01_row2_col1\" class=\"data row2 col1\" >< 0.001</td>\n",
       "      <td id=\"T_5ea01_row2_col2\" class=\"data row2 col2\" >0.008</td>\n",
       "      <td id=\"T_5ea01_row2_col3\" class=\"data row2 col3\" >0.001</td>\n",
       "    </tr>\n",
       "    <tr>\n",
       "      <th id=\"T_5ea01_level0_row3\" class=\"row_heading level0 row3\" >Clickbait</th>\n",
       "      <td id=\"T_5ea01_row3_col0\" class=\"data row3 col0\" >0.013</td>\n",
       "      <td id=\"T_5ea01_row3_col1\" class=\"data row3 col1\" >< 0.001</td>\n",
       "      <td id=\"T_5ea01_row3_col2\" class=\"data row3 col2\" >0.039</td>\n",
       "      <td id=\"T_5ea01_row3_col3\" class=\"data row3 col3\" >0.001</td>\n",
       "    </tr>\n",
       "    <tr>\n",
       "      <th id=\"T_5ea01_level0_row4\" class=\"row_heading level0 row4\" >Political</th>\n",
       "      <td id=\"T_5ea01_row4_col0\" class=\"data row4 col0\" >0.102</td>\n",
       "      <td id=\"T_5ea01_row4_col1\" class=\"data row4 col1\" >0.013</td>\n",
       "      <td id=\"T_5ea01_row4_col2\" class=\"data row4 col2\" >0.120</td>\n",
       "      <td id=\"T_5ea01_row4_col3\" class=\"data row4 col3\" >0.076</td>\n",
       "    </tr>\n",
       "    <tr>\n",
       "      <th id=\"T_5ea01_level0_row5\" class=\"row_heading level0 row5\" >Fake or hoax</th>\n",
       "      <td id=\"T_5ea01_row5_col0\" class=\"data row5 col0\" >0.045</td>\n",
       "      <td id=\"T_5ea01_row5_col1\" class=\"data row5 col1\" >0.004</td>\n",
       "      <td id=\"T_5ea01_row5_col2\" class=\"data row5 col2\" >0.028</td>\n",
       "      <td id=\"T_5ea01_row5_col3\" class=\"data row5 col3\" >0.011</td>\n",
       "    </tr>\n",
       "    <tr>\n",
       "      <th id=\"T_5ea01_level0_row6\" class=\"row_heading level0 row6\" >Conspiracy & junk science</th>\n",
       "      <td id=\"T_5ea01_row6_col0\" class=\"data row6 col0\" >0.068</td>\n",
       "      <td id=\"T_5ea01_row6_col1\" class=\"data row6 col1\" >0.003</td>\n",
       "      <td id=\"T_5ea01_row6_col2\" class=\"data row6 col2\" >0.023</td>\n",
       "      <td id=\"T_5ea01_row6_col3\" class=\"data row6 col3\" >0.007</td>\n",
       "    </tr>\n",
       "    <tr>\n",
       "      <th id=\"T_5ea01_level0_row7\" class=\"row_heading level0 row7\" >potentially disinformative</th>\n",
       "      <td id=\"T_5ea01_row7_col0\" class=\"data row7 col0\" >0.216</td>\n",
       "      <td id=\"T_5ea01_row7_col1\" class=\"data row7 col1\" >0.020</td>\n",
       "      <td id=\"T_5ea01_row7_col2\" class=\"data row7 col2\" >0.171</td>\n",
       "      <td id=\"T_5ea01_row7_col3\" class=\"data row7 col3\" >0.093</td>\n",
       "    </tr>\n",
       "  </tbody>\n",
       "</table>\n"
      ],
      "text/plain": [
       "<pandas.io.formats.style.Styler at 0x7feead897ca0>"
      ]
     },
     "execution_count": 20,
     "metadata": {},
     "output_type": "execute_result"
    }
   ],
   "source": [
    "ratios_by_verified_style = ratios_by_verified.style.format(lambda v: '< 0.001' if round(v, 3) < .001 else f'{v:.03f}')\n",
    "save_to_latex(\n",
    "    config,\n",
    "    ratios_by_verified_style, \n",
    "    'content_type_ratios_by_verified',\n",
    "    r\"Ratios of posts by content type and verification of user.\",\n",
    "    is_multi_index=True)\n",
    "ratios_by_verified_style"
   ]
  },
  {
   "cell_type": "markdown",
   "metadata": {},
   "source": [
    "#### $\\chi^2$-Test\n",
    "<p id=\"SupplNoteB\">Mentioned in Supplementary Note B</p>"
   ]
  },
  {
   "cell_type": "code",
   "execution_count": 21,
   "metadata": {},
   "outputs": [],
   "source": [
    "posts_per_verified_ft.loc[ContentType.CLEAR.value] = posts_per_verified_ft.loc[list(set(FactTypes.known_order()) - set(FactTypes.disinformative_order()))].sum(axis=0)\n"
   ]
  },
  {
   "cell_type": "code",
   "execution_count": 22,
   "metadata": {},
   "outputs": [],
   "source": [
    "res_f =  chi2_contingency(posts_per_verified_ft.drop(columns='total').loc[FactTypes.known_order()])\n",
    "res_h = chi2_contingency(posts_per_verified_ft.drop(columns='total').loc[[ContentType.DISINFORMATIVE.value, ContentType.CLEAR.value]])"
   ]
  },
  {
   "cell_type": "code",
   "execution_count": 23,
   "metadata": {},
   "outputs": [
    {
     "data": {
      "text/plain": [
       "'FactTypes: chi^=10524.71, p=0.000\\\\Disinformative or not: chi^=8801.25, p=0.000'"
      ]
     },
     "execution_count": 23,
     "metadata": {},
     "output_type": "execute_result"
    }
   ],
   "source": [
    "f'FactTypes: chi^={res_f[0]:.2f}, p={res_f[1]:.3f}\\Disinformative or not: chi^={res_h[0]:.2f}, p={res_h[1]:.3f}'"
   ]
  },
  {
   "cell_type": "markdown",
   "metadata": {
    "pycharm": {
     "name": "#%% md\n"
    }
   },
   "source": [
    "# Correlation of overall posts per user with ratio of potentially disinformative content"
   ]
  },
  {
   "cell_type": "code",
   "execution_count": 24,
   "metadata": {},
   "outputs": [],
   "source": [
    "posts_per_cluster_userposts_disinf = processor.get_per_cluster_x(\n",
    "    'all', processor.known_data[Columns.POSTS.value], 'sum', \n",
    "    columns=[user_mapping(processor.known_data, processor.posts_per_user, 'posts per user'), disinformative_mapping(processor.known_data)])\n",
    "disinf_ratio_per_cluster_userposts = posts_per_cluster_userposts_disinf.xs(True, level=ContentType.DISINFORMATIVE.value).div(posts_per_cluster_userposts_disinf.groupby(level=[Columns.CLUSTER.value, 'posts per user']).sum())"
   ]
  },
  {
   "cell_type": "markdown",
   "metadata": {
    "pycharm": {
     "name": "#%% md\n"
    }
   },
   "source": [
    "<p id=\"Table2\">Table 2 (a)</p>"
   ]
  },
  {
   "cell_type": "code",
   "execution_count": 25,
   "metadata": {},
   "outputs": [
    {
     "data": {
      "text/html": [
       "<style type=\"text/css\">\n",
       "#T_cae79_row0_col1, #T_cae79_row1_col1, #T_cae79_row2_col1, #T_cae79_row3_col1, #T_cae79_row4_col1 {\n",
       "  font-weight: bold;\n",
       "}\n",
       "</style>\n",
       "<table id=\"T_cae79\">\n",
       "  <thead>\n",
       "    <tr>\n",
       "      <th class=\"blank level0\" >&nbsp;</th>\n",
       "      <th id=\"T_cae79_level0_col0\" class=\"col_heading level0 col0\" >Rho</th>\n",
       "      <th id=\"T_cae79_level0_col1\" class=\"col_heading level0 col1\" >\\pvalue</th>\n",
       "    </tr>\n",
       "    <tr>\n",
       "      <th class=\"index_name level0\" >cluster</th>\n",
       "      <th class=\"blank col0\" >&nbsp;</th>\n",
       "      <th class=\"blank col1\" >&nbsp;</th>\n",
       "    </tr>\n",
       "  </thead>\n",
       "  <tbody>\n",
       "    <tr>\n",
       "      <th id=\"T_cae79_level0_row0\" class=\"row_heading level0 row0\" >infrequent type</th>\n",
       "      <td id=\"T_cae79_row0_col0\" class=\"data row0 col0\" >0.162</td>\n",
       "      <td id=\"T_cae79_row0_col1\" class=\"data row0 col1\" >1.2e-02</td>\n",
       "    </tr>\n",
       "    <tr>\n",
       "      <th id=\"T_cae79_level0_row1\" class=\"row_heading level0 row1\" >morning type</th>\n",
       "      <td id=\"T_cae79_row1_col0\" class=\"data row1 col0\" >0.179</td>\n",
       "      <td id=\"T_cae79_row1_col1\" class=\"data row1 col1\" >5.0e-09</td>\n",
       "    </tr>\n",
       "    <tr>\n",
       "      <th id=\"T_cae79_level0_row2\" class=\"row_heading level0 row2\" >intermediate type</th>\n",
       "      <td id=\"T_cae79_row2_col0\" class=\"data row2 col0\" >0.125</td>\n",
       "      <td id=\"T_cae79_row2_col1\" class=\"data row2 col1\" >2.8e-06</td>\n",
       "    </tr>\n",
       "    <tr>\n",
       "      <th id=\"T_cae79_level0_row3\" class=\"row_heading level0 row3\" >evening type</th>\n",
       "      <td id=\"T_cae79_row3_col0\" class=\"data row3 col0\" >0.134</td>\n",
       "      <td id=\"T_cae79_row3_col1\" class=\"data row3 col1\" >1.4e-05</td>\n",
       "    </tr>\n",
       "    <tr>\n",
       "      <th id=\"T_cae79_level0_row4\" class=\"row_heading level0 row4\" >total</th>\n",
       "      <td id=\"T_cae79_row4_col0\" class=\"data row4 col0\" >0.200</td>\n",
       "      <td id=\"T_cae79_row4_col1\" class=\"data row4 col1\" >2.3e-22</td>\n",
       "    </tr>\n",
       "  </tbody>\n",
       "</table>\n"
      ],
      "text/plain": [
       "<pandas.io.formats.style.Styler at 0x7feead91d070>"
      ]
     },
     "execution_count": 25,
     "metadata": {},
     "output_type": "execute_result"
    }
   ],
   "source": [
    "spearman_df_style = (disinf_ratio_per_cluster_userposts.dropna()\n",
    " .groupby(Columns.CLUSTER.value)\n",
    " .apply(lambda grp: pd.Series(spearmanr(grp.droplevel(0).index, grp.values), index=['Rho', '\\pvalue']))\n",
    " .unstack(level=-1)\n",
    " .loc[Clusters.total_order()]\n",
    " .style\n",
    " .format({'Rho': lambda x: f'{x:.3f}', '\\pvalue': lambda x: f'{x:.1e}'})\n",
    " .map(lambda v: 'font-weight: bold;' if (v <0.05)  else None, subset=\"\\pvalue\"))\n",
    "save_to_latex(config,\n",
    "    spearman_df_style,\n",
    "    'corr_total_posts',\n",
    "    r\"Spearman's rank correlation coefficient and corresponding \\pvalue{} correlating a user's total number of posts with ratios of potentially disinformative content.\",\n",
    ")\n",
    "spearman_df_style"
   ]
  },
  {
   "cell_type": "markdown",
   "metadata": {},
   "source": [
    "# Correlation of cluster activity with ratio of potentially disinformative content by time of day"
   ]
  },
  {
   "cell_type": "code",
   "execution_count": 26,
   "metadata": {},
   "outputs": [],
   "source": [
    "fourier_routine = FourierRoutine(config, processor)\n",
    "activity_recomposition = fourier_routine.activity_by_user('all')\n",
    "disinf_ratio_recomposition = fourier_routine.disinf_ratio_by_user('all')"
   ]
  },
  {
   "cell_type": "code",
   "execution_count": 27,
   "metadata": {},
   "outputs": [],
   "source": [
    "ratio_of_known_per_cluster_ft_t_by_user = processor.get_per_cluster_x(\n",
    "    'all', processor.ratio_of_known_per_user_ft_t.unstack(level=Columns.FACTTYPE.value, fill_value=0), 'mean', columns=[Columns.MIN_BINS15.value]\n",
    ")"
   ]
  },
  {
   "cell_type": "code",
   "execution_count": 28,
   "metadata": {},
   "outputs": [],
   "source": [
    "spearman_df_facttype = pd.DataFrame(\n",
    "    index=pd.MultiIndex.from_product((['coarse', 'smoothed'], Clusters.total_order())),\n",
    "    columns=pd.MultiIndex.from_product(([ContentType.DISINFORMATIVE.value] + FactTypes.disinformative_order('name'),  ['Rho', 'P-Value'])))\n",
    "\n",
    "for c in Clusters.total_order():\n",
    "    spearman_df_facttype.loc[('coarse', c), ContentType.DISINFORMATIVE.value] = tuple(spearmanr(activity_recomposition.signal.loc[c], disinf_ratio_recomposition.signal.loc[c]))\n",
    "    spearman_df_facttype.loc[('smoothed', c), ContentType.DISINFORMATIVE.value] = tuple(spearmanr(activity_recomposition.recomposed_signal.loc[c], disinf_ratio_recomposition.recomposed_signal.loc[c]))\n",
    "    for f in FactTypes.disinformative_order():\n",
    "        spearman_df_facttype.loc[('coarse', c), f] = tuple(spearmanr(activity_recomposition.signal.loc[c], ratio_of_known_per_cluster_ft_t_by_user.loc[c,f]))\n",
    "        spearman_df_facttype.loc[('smoothed', c), f] = tuple(spearmanr(activity_recomposition.recomposed_signal.loc[c], ratio_of_known_per_cluster_ft_t_by_user.loc[c,f]))"
   ]
  },
  {
   "cell_type": "markdown",
   "metadata": {
    "pycharm": {
     "name": "#%% md\n"
    }
   },
   "source": [
    "<p id=\"Tab2b\">Table 2(b)</p>"
   ]
  },
  {
   "cell_type": "code",
   "execution_count": 29,
   "metadata": {},
   "outputs": [
    {
     "data": {
      "text/html": [
       "<style type=\"text/css\">\n",
       "#T_63693_row0_col1, #T_63693_row0_col3, #T_63693_row0_col5, #T_63693_row0_col7, #T_63693_row1_col1, #T_63693_row1_col3, #T_63693_row2_col1, #T_63693_row2_col3, #T_63693_row3_col3, #T_63693_row4_col1, #T_63693_row4_col3, #T_63693_row4_col5, #T_63693_row4_col7, #T_63693_row5_col1, #T_63693_row5_col3, #T_63693_row5_col5, #T_63693_row5_col7, #T_63693_row6_col1, #T_63693_row6_col3, #T_63693_row7_col1, #T_63693_row7_col3, #T_63693_row8_col1, #T_63693_row8_col3, #T_63693_row9_col1, #T_63693_row9_col3, #T_63693_row9_col5, #T_63693_row9_col7 {\n",
       "  font-weight: bold;\n",
       "}\n",
       "</style>\n",
       "<table id=\"T_63693\">\n",
       "  <thead>\n",
       "    <tr>\n",
       "      <th class=\"blank\" >&nbsp;</th>\n",
       "      <th class=\"blank level0\" >&nbsp;</th>\n",
       "      <th id=\"T_63693_level0_col0\" class=\"col_heading level0 col0\" colspan=\"2\">potentially disinformative</th>\n",
       "      <th id=\"T_63693_level0_col2\" class=\"col_heading level0 col2\" colspan=\"2\">Political</th>\n",
       "      <th id=\"T_63693_level0_col4\" class=\"col_heading level0 col4\" colspan=\"2\">Fake or hoax</th>\n",
       "      <th id=\"T_63693_level0_col6\" class=\"col_heading level0 col6\" colspan=\"2\">Conspiracy & junk science</th>\n",
       "    </tr>\n",
       "    <tr>\n",
       "      <th class=\"blank\" >&nbsp;</th>\n",
       "      <th class=\"blank level1\" >&nbsp;</th>\n",
       "      <th id=\"T_63693_level1_col0\" class=\"col_heading level1 col0\" >Rho</th>\n",
       "      <th id=\"T_63693_level1_col1\" class=\"col_heading level1 col1\" >P-Value</th>\n",
       "      <th id=\"T_63693_level1_col2\" class=\"col_heading level1 col2\" >Rho</th>\n",
       "      <th id=\"T_63693_level1_col3\" class=\"col_heading level1 col3\" >P-Value</th>\n",
       "      <th id=\"T_63693_level1_col4\" class=\"col_heading level1 col4\" >Rho</th>\n",
       "      <th id=\"T_63693_level1_col5\" class=\"col_heading level1 col5\" >P-Value</th>\n",
       "      <th id=\"T_63693_level1_col6\" class=\"col_heading level1 col6\" >Rho</th>\n",
       "      <th id=\"T_63693_level1_col7\" class=\"col_heading level1 col7\" >P-Value</th>\n",
       "    </tr>\n",
       "  </thead>\n",
       "  <tbody>\n",
       "    <tr>\n",
       "      <th id=\"T_63693_level0_row0\" class=\"row_heading level0 row0\" rowspan=\"5\">coarse</th>\n",
       "      <th id=\"T_63693_level1_row0\" class=\"row_heading level1 row0\" >infrequent type</th>\n",
       "      <td id=\"T_63693_row0_col0\" class=\"data row0 col0\" >-0.324</td>\n",
       "      <td id=\"T_63693_row0_col1\" class=\"data row0 col1\" >1.3e-03</td>\n",
       "      <td id=\"T_63693_row0_col2\" class=\"data row0 col2\" >-0.303</td>\n",
       "      <td id=\"T_63693_row0_col3\" class=\"data row0 col3\" >2.7e-03</td>\n",
       "      <td id=\"T_63693_row0_col4\" class=\"data row0 col4\" >-0.534</td>\n",
       "      <td id=\"T_63693_row0_col5\" class=\"data row0 col5\" >2.2e-08</td>\n",
       "      <td id=\"T_63693_row0_col6\" class=\"data row0 col6\" >0.524</td>\n",
       "      <td id=\"T_63693_row0_col7\" class=\"data row0 col7\" >4.2e-08</td>\n",
       "    </tr>\n",
       "    <tr>\n",
       "      <th id=\"T_63693_level1_row1\" class=\"row_heading level1 row1\" >morning type</th>\n",
       "      <td id=\"T_63693_row1_col0\" class=\"data row1 col0\" >-0.272</td>\n",
       "      <td id=\"T_63693_row1_col1\" class=\"data row1 col1\" >7.4e-03</td>\n",
       "      <td id=\"T_63693_row1_col2\" class=\"data row1 col2\" >-0.326</td>\n",
       "      <td id=\"T_63693_row1_col3\" class=\"data row1 col3\" >1.2e-03</td>\n",
       "      <td id=\"T_63693_row1_col4\" class=\"data row1 col4\" >-0.105</td>\n",
       "      <td id=\"T_63693_row1_col5\" class=\"data row1 col5\" >3.1e-01</td>\n",
       "      <td id=\"T_63693_row1_col6\" class=\"data row1 col6\" >0.097</td>\n",
       "      <td id=\"T_63693_row1_col7\" class=\"data row1 col7\" >3.5e-01</td>\n",
       "    </tr>\n",
       "    <tr>\n",
       "      <th id=\"T_63693_level1_row2\" class=\"row_heading level1 row2\" >intermediate type</th>\n",
       "      <td id=\"T_63693_row2_col0\" class=\"data row2 col0\" >-0.446</td>\n",
       "      <td id=\"T_63693_row2_col1\" class=\"data row2 col1\" >5.1e-06</td>\n",
       "      <td id=\"T_63693_row2_col2\" class=\"data row2 col2\" >-0.713</td>\n",
       "      <td id=\"T_63693_row2_col3\" class=\"data row2 col3\" >3.7e-16</td>\n",
       "      <td id=\"T_63693_row2_col4\" class=\"data row2 col4\" >-0.081</td>\n",
       "      <td id=\"T_63693_row2_col5\" class=\"data row2 col5\" >4.3e-01</td>\n",
       "      <td id=\"T_63693_row2_col6\" class=\"data row2 col6\" >0.012</td>\n",
       "      <td id=\"T_63693_row2_col7\" class=\"data row2 col7\" >9.1e-01</td>\n",
       "    </tr>\n",
       "    <tr>\n",
       "      <th id=\"T_63693_level1_row3\" class=\"row_heading level1 row3\" >evening type</th>\n",
       "      <td id=\"T_63693_row3_col0\" class=\"data row3 col0\" >0.135</td>\n",
       "      <td id=\"T_63693_row3_col1\" class=\"data row3 col1\" >1.9e-01</td>\n",
       "      <td id=\"T_63693_row3_col2\" class=\"data row3 col2\" >0.302</td>\n",
       "      <td id=\"T_63693_row3_col3\" class=\"data row3 col3\" >2.8e-03</td>\n",
       "      <td id=\"T_63693_row3_col4\" class=\"data row3 col4\" >-0.019</td>\n",
       "      <td id=\"T_63693_row3_col5\" class=\"data row3 col5\" >8.6e-01</td>\n",
       "      <td id=\"T_63693_row3_col6\" class=\"data row3 col6\" >-0.194</td>\n",
       "      <td id=\"T_63693_row3_col7\" class=\"data row3 col7\" >5.9e-02</td>\n",
       "    </tr>\n",
       "    <tr>\n",
       "      <th id=\"T_63693_level1_row4\" class=\"row_heading level1 row4\" >total</th>\n",
       "      <td id=\"T_63693_row4_col0\" class=\"data row4 col0\" >-0.369</td>\n",
       "      <td id=\"T_63693_row4_col1\" class=\"data row4 col1\" >2.1e-04</td>\n",
       "      <td id=\"T_63693_row4_col2\" class=\"data row4 col2\" >-0.398</td>\n",
       "      <td id=\"T_63693_row4_col3\" class=\"data row4 col3\" >5.9e-05</td>\n",
       "      <td id=\"T_63693_row4_col4\" class=\"data row4 col4\" >-0.459</td>\n",
       "      <td id=\"T_63693_row4_col5\" class=\"data row4 col5\" >2.6e-06</td>\n",
       "      <td id=\"T_63693_row4_col6\" class=\"data row4 col6\" >0.614</td>\n",
       "      <td id=\"T_63693_row4_col7\" class=\"data row4 col7\" >3.0e-11</td>\n",
       "    </tr>\n",
       "    <tr>\n",
       "      <th id=\"T_63693_level0_row5\" class=\"row_heading level0 row5\" rowspan=\"5\">smoothed</th>\n",
       "      <th id=\"T_63693_level1_row5\" class=\"row_heading level1 row5\" >infrequent type</th>\n",
       "      <td id=\"T_63693_row5_col0\" class=\"data row5 col0\" >-0.402</td>\n",
       "      <td id=\"T_63693_row5_col1\" class=\"data row5 col1\" >5.0e-05</td>\n",
       "      <td id=\"T_63693_row5_col2\" class=\"data row5 col2\" >-0.321</td>\n",
       "      <td id=\"T_63693_row5_col3\" class=\"data row5 col3\" >1.4e-03</td>\n",
       "      <td id=\"T_63693_row5_col4\" class=\"data row5 col4\" >-0.593</td>\n",
       "      <td id=\"T_63693_row5_col5\" class=\"data row5 col5\" >1.9e-10</td>\n",
       "      <td id=\"T_63693_row5_col6\" class=\"data row5 col6\" >0.512</td>\n",
       "      <td id=\"T_63693_row5_col7\" class=\"data row5 col7\" >9.5e-08</td>\n",
       "    </tr>\n",
       "    <tr>\n",
       "      <th id=\"T_63693_level1_row6\" class=\"row_heading level1 row6\" >morning type</th>\n",
       "      <td id=\"T_63693_row6_col0\" class=\"data row6 col0\" >-0.432</td>\n",
       "      <td id=\"T_63693_row6_col1\" class=\"data row6 col1\" >1.1e-05</td>\n",
       "      <td id=\"T_63693_row6_col2\" class=\"data row6 col2\" >-0.308</td>\n",
       "      <td id=\"T_63693_row6_col3\" class=\"data row6 col3\" >2.2e-03</td>\n",
       "      <td id=\"T_63693_row6_col4\" class=\"data row6 col4\" >-0.104</td>\n",
       "      <td id=\"T_63693_row6_col5\" class=\"data row6 col5\" >3.1e-01</td>\n",
       "      <td id=\"T_63693_row6_col6\" class=\"data row6 col6\" >0.097</td>\n",
       "      <td id=\"T_63693_row6_col7\" class=\"data row6 col7\" >3.4e-01</td>\n",
       "    </tr>\n",
       "    <tr>\n",
       "      <th id=\"T_63693_level1_row7\" class=\"row_heading level1 row7\" >intermediate type</th>\n",
       "      <td id=\"T_63693_row7_col0\" class=\"data row7 col0\" >-0.646</td>\n",
       "      <td id=\"T_63693_row7_col1\" class=\"data row7 col1\" >1.2e-12</td>\n",
       "      <td id=\"T_63693_row7_col2\" class=\"data row7 col2\" >-0.670</td>\n",
       "      <td id=\"T_63693_row7_col3\" class=\"data row7 col3\" >8.5e-14</td>\n",
       "      <td id=\"T_63693_row7_col4\" class=\"data row7 col4\" >-0.091</td>\n",
       "      <td id=\"T_63693_row7_col5\" class=\"data row7 col5\" >3.8e-01</td>\n",
       "      <td id=\"T_63693_row7_col6\" class=\"data row7 col6\" >0.064</td>\n",
       "      <td id=\"T_63693_row7_col7\" class=\"data row7 col7\" >5.4e-01</td>\n",
       "    </tr>\n",
       "    <tr>\n",
       "      <th id=\"T_63693_level1_row8\" class=\"row_heading level1 row8\" >evening type</th>\n",
       "      <td id=\"T_63693_row8_col0\" class=\"data row8 col0\" >0.261</td>\n",
       "      <td id=\"T_63693_row8_col1\" class=\"data row8 col1\" >1.0e-02</td>\n",
       "      <td id=\"T_63693_row8_col2\" class=\"data row8 col2\" >0.306</td>\n",
       "      <td id=\"T_63693_row8_col3\" class=\"data row8 col3\" >2.4e-03</td>\n",
       "      <td id=\"T_63693_row8_col4\" class=\"data row8 col4\" >0.008</td>\n",
       "      <td id=\"T_63693_row8_col5\" class=\"data row8 col5\" >9.4e-01</td>\n",
       "      <td id=\"T_63693_row8_col6\" class=\"data row8 col6\" >-0.197</td>\n",
       "      <td id=\"T_63693_row8_col7\" class=\"data row8 col7\" >5.4e-02</td>\n",
       "    </tr>\n",
       "    <tr>\n",
       "      <th id=\"T_63693_level1_row9\" class=\"row_heading level1 row9\" >total</th>\n",
       "      <td id=\"T_63693_row9_col0\" class=\"data row9 col0\" >-0.441</td>\n",
       "      <td id=\"T_63693_row9_col1\" class=\"data row9 col1\" >7.0e-06</td>\n",
       "      <td id=\"T_63693_row9_col2\" class=\"data row9 col2\" >-0.410</td>\n",
       "      <td id=\"T_63693_row9_col3\" class=\"data row9 col3\" >3.3e-05</td>\n",
       "      <td id=\"T_63693_row9_col4\" class=\"data row9 col4\" >-0.501</td>\n",
       "      <td id=\"T_63693_row9_col5\" class=\"data row9 col5\" >2.0e-07</td>\n",
       "      <td id=\"T_63693_row9_col6\" class=\"data row9 col6\" >0.611</td>\n",
       "      <td id=\"T_63693_row9_col7\" class=\"data row9 col7\" >3.8e-11</td>\n",
       "    </tr>\n",
       "  </tbody>\n",
       "</table>\n"
      ],
      "text/plain": [
       "<pandas.io.formats.style.Styler at 0x7fee76518100>"
      ]
     },
     "execution_count": 29,
     "metadata": {},
     "output_type": "execute_result"
    }
   ],
   "source": [
    "spearman_df_facttype_style = (\n",
    "    spearman_df_facttype[[ContentType.DISINFORMATIVE.value] + FactTypes.disinformative_order('name')]\n",
    "    .style\n",
    "    .format(\n",
    "        {(c,r):f for r,f in zip(['Rho', 'P-Value'], [lambda x: f'{x:.3f}', lambda x: f'{x:.1e}'])\n",
    "         for c in spearman_df_facttype.columns.unique(level=0)})\n",
    "    .map(lambda v: 'font-weight: bold;' if (v <0.05)  else None, subset=pd.IndexSlice[:, pd.IndexSlice[:, \"P-Value\"]])\n",
    ")\n",
    "save_to_latex(config, \n",
    "    spearman_df_facttype_style,\n",
    "    'spearman_facttype_activity',\n",
    "    r\"Spearman correlation and corresponding p-value comparing a cluster's activity level throughout the day with the ratios of politically biased information, fake or hoax news, and conspiracy or junk science.\",\n",
    "    is_multi_index=True\n",
    ")\n",
    "spearman_df_facttype_style"
   ]
  },
  {
   "cell_type": "markdown",
   "metadata": {},
   "source": [
    "# Variance of potentially disinformative content ratios"
   ]
  },
  {
   "cell_type": "code",
   "execution_count": 30,
   "metadata": {},
   "outputs": [
    {
     "data": {
      "text/plain": [
       "<seaborn.axisgrid.FacetGrid at 0x7feead8dfd90>"
      ]
     },
     "execution_count": 30,
     "metadata": {},
     "output_type": "execute_result"
    },
    {
     "data": {
      "image/png": "[encoded data removed]",
      "text/plain": [
       "<Figure size 1500x300 with 5 Axes>"
      ]
     },
     "metadata": {},
     "output_type": "display_data"
    }
   ],
   "source": [
    "g = sns.FacetGrid(\n",
    "    data=processor.get_per_cluster_x('all', processor.user_disinf_ratio_t, 'mean', columns=[Columns.MIN_BINS15.value, Columns.USERHASH.value]).reset_index(name=ContentType.DISINFORMATIVE.value), \n",
    "    hue=Columns.CLUSTER.value, palette=Clusters.palette(), col=Columns.CLUSTER.value)\n",
    "g.map_dataframe(sns.lineplot, x=Columns.MIN_BINS15.value, y=ContentType.DISINFORMATIVE.value)"
   ]
  },
  {
   "cell_type": "code",
   "execution_count": 31,
   "metadata": {},
   "outputs": [
    {
     "data": {
      "text/plain": [
       "<seaborn.axisgrid.FacetGrid at 0x7feead8f3f10>"
      ]
     },
     "execution_count": 31,
     "metadata": {},
     "output_type": "execute_result"
    },
    {
     "data": {
      "image/png": "[encoded data removed]",
      "text/plain": [
       "<Figure size 2500x500 with 5 Axes>"
      ]
     },
     "metadata": {},
     "output_type": "display_data"
    }
   ],
   "source": [
    "g = sns.lmplot(\n",
    "    data=processor.get_per_cluster_x('all', processor.disinf_posts_per_user_t, 'sum', columns=[Columns.MIN_BINS15.value, Columns.USERHASH.value]).reset_index(name=ContentType.DISINFORMATIVE.value), \n",
    "    x=Columns.MIN_BINS15.value, y=ContentType.DISINFORMATIVE.value, \n",
    "    hue=Columns.CLUSTER.value, palette=Clusters.palette(), col=Columns.CLUSTER.value,\n",
    "    order=10, scatter_kws={'alpha': .5, 's': 1})\n",
    "g.set(ylim=(0,5))"
   ]
  },
  {
   "cell_type": "code",
   "execution_count": 32,
   "metadata": {},
   "outputs": [],
   "source": [
    "posts_per_cluster_disinf_t = processor.get_per_cluster_x('all', processor.known_data[Columns.POSTS.value], 'sum', columns=[Columns.MIN_BINS15.value, disinformative_mapping(processor.known_data)]).unstack(level=ContentType.DISINFORMATIVE.value)\n",
    "posts_per_cluster_disinf_t[ContentType.KNOWN.value] = posts_per_cluster_disinf_t.sum(axis=1)\n",
    "posts_per_cluster_disinf_t.rename(columns={False: ContentType.CLEAR.value, True: ContentType.DISINFORMATIVE.value}, inplace=True)"
   ]
  },
  {
   "cell_type": "code",
   "execution_count": 33,
   "metadata": {},
   "outputs": [
    {
     "data": {
      "text/plain": [
       "<seaborn.axisgrid.FacetGrid at 0x7fee799148b0>"
      ]
     },
     "execution_count": 33,
     "metadata": {},
     "output_type": "execute_result"
    },
    {
     "data": {
      "image/png": "[encoded data removed]",
      "text/plain": [
       "<Figure size 1500x300 with 5 Axes>"
      ]
     },
     "metadata": {},
     "output_type": "display_data"
    }
   ],
   "source": [
    "g = sns.FacetGrid(\n",
    "    data=posts_per_cluster_disinf_t.reset_index(), \n",
    "    hue=Columns.CLUSTER.value, palette=Clusters.palette(), col=Columns.CLUSTER.value)\n",
    "g.map_dataframe(sns.lineplot, x=Columns.MIN_BINS15.value, y=ContentType.KNOWN.value)\n",
    "g.map_dataframe(sns.lineplot, x=Columns.MIN_BINS15.value, y=ContentType.DISINFORMATIVE.value, linestyle='dashed')"
   ]
  },
  {
   "cell_type": "code",
   "execution_count": 37,
   "metadata": {},
   "outputs": [
    {
     "name": "stderr",
     "output_type": "stream",
     "text": [
      "The PostScript backend does not support transparency; partially transparent artists will be rendered opaque.\n"
     ]
    },
    {
     "data": {
      "image/png": "[encoded data removed]",
      "text/plain": [
       "<Figure size 1000x400 with 8 Axes>"
      ]
     },
     "metadata": {},
     "output_type": "display_data"
    }
   ],
   "source": [
    "import matplotlib.pyplot as plt\n",
    "ticks = [6, 18]\n",
    "\n",
    "fig, axes = plt.subplots(2, 4, gridspec_kw={'height_ratios': [1, 1.5]}, sharex=True, sharey='row', figsize=(10,4))\n",
    "disinf_activity_recomposition = fourier_routine.disinf_activity_by_user('all')\n",
    "\n",
    "for i, (c, color) in enumerate(zip(Clusters.order(), Clusters.order('color'))):\n",
    "    axes[0,i].set_title(c)\n",
    "    \n",
    "    # stack plot of potentially disinformative and likely not disinformative values\n",
    "    axes[0,i].stackplot(\n",
    "        posts_per_cluster_disinf_t.index.levels[1], posts_per_cluster_disinf_t.loc[c, ContentType.DISINFORMATIVE.value], posts_per_cluster_disinf_t.loc[c, ContentType.CLEAR.value], lw=0,\n",
    "        colors=[FactTypes.FAKE.value.color, FactTypes.MSM.value.color]\n",
    "    )\n",
    "    # regression of time of day and disinformative content ratio order 5\n",
    "    sns.regplot(\n",
    "        x=disinf_ratio_recomposition.signal.columns, y=disinf_ratio_recomposition.signal.loc[c], \n",
    "        order=5, ax=axes[1,i], marker = \".\", ci=95, color=color, scatter_kws={'s':1})\n",
    "    \n",
    "    # regression of time of day and the relationship between disinformative and overall activity order 5\n",
    "    # tmp = disinf_activity_recomposition.signal.loc[c] / activity_recomposition.signal.loc[c]\n",
    "    # sns.regplot(\n",
    "    #     x=tmp.index, y=tmp.values, color=color, ax=axes[2,i], order=5, marker = \".\", ci=95, scatter_kws={'s':1})\n",
    "\n",
    "    \n",
    "for ax in axes.flat:\n",
    "    ax.set_ylabel(\"\")\n",
    "    ax.set_xlabel(\"\")\n",
    "axes[1,0].set_xlim(0,23.75)\n",
    "axes[1,0].set_ylim(0,.39)\n",
    "# axes[2,0].set_ylim(.7,1.8)\n",
    "axes[0,0].set_xticks(ticks, [format_h_min(i) for i in ticks])\n",
    "plt.subplots_adjust(wspace=0.01, hspace=0.01)\n",
    "save_plot(fig, 'number_harmful', config, 'all', dpi=300, transparent=False, bbox_inches='tight')"
   ]
  },
  {
   "cell_type": "code",
   "execution_count": null,
   "metadata": {},
   "outputs": [],
   "source": []
  }
 ],
 "metadata": {
  "kernelspec": {
   "display_name": "Python 3",
   "language": "python",
   "name": "python3"
  },
  "language_info": {
   "codemirror_mode": {
    "name": "ipython",
    "version": 3
   },
   "file_extension": ".py",
   "mimetype": "text/x-python",
   "name": "python",
   "nbconvert_exporter": "python",
   "pygments_lexer": "ipython3",
   "version": "3.9.7"
  },
  "toc-autonumbering": true,
  "toc-showcode": false,
  "toc-showmarkdowntxt": false
 },
 "nbformat": 4,
 "nbformat_minor": 4
}
