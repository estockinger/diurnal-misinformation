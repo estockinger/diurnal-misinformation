{
 "cells": [
  {
   "cell_type": "code",
   "execution_count": 1,
   "metadata": {
    "collapsed": false,
    "pycharm": {
     "name": "#%%\n"
    }
   },
   "outputs": [],
   "source": [
    "import numpy as np\n",
    "from scipy.stats import chi2_contingency\n",
    "\n",
    "from diurnal_misinformation.enums import Columns\n",
    "from diurnal_misinformation.config import ItalyConfig\n",
    "from diurnal_misinformation.lockdown_utils import LockdownRoutine"
   ]
  },
  {
   "cell_type": "code",
   "execution_count": 2,
   "metadata": {
    "pycharm": {
     "name": "#%%\n"
    },
    "tags": []
   },
   "outputs": [],
   "source": [
    "np.random.seed(0)\n",
    "config = ItalyConfig()\n",
    "processor = LockdownRoutine(config)"
   ]
  },
  {
   "cell_type": "markdown",
   "metadata": {
    "collapsed": false,
    "pycharm": {
     "name": "#%% md\n"
    }
   },
   "source": [
    "# Lockdown and potentially disinformative content"
   ]
  },
  {
   "cell_type": "code",
   "execution_count": 3,
   "metadata": {},
   "outputs": [
    {
     "data": {
      "text/html": [
       "<style type=\"text/css\">\n",
       "#T_d0b98_row0_col1, #T_d0b98_row0_col3, #T_d0b98_row1_col1, #T_d0b98_row1_col3, #T_d0b98_row2_col1, #T_d0b98_row2_col3, #T_d0b98_row3_col1, #T_d0b98_row4_col1, #T_d0b98_row4_col3 {\n",
       "  font-weight: bold;\n",
       "}\n",
       "</style>\n",
       "<table id=\"T_d0b98\">\n",
       "  <thead>\n",
       "    <tr>\n",
       "      <th class=\"blank level0\" >&nbsp;</th>\n",
       "      <th id=\"T_d0b98_level0_col0\" class=\"col_heading level0 col0\" colspan=\"2\">by user</th>\n",
       "      <th id=\"T_d0b98_level0_col2\" class=\"col_heading level0 col2\" colspan=\"2\">by tweet</th>\n",
       "    </tr>\n",
       "    <tr>\n",
       "      <th class=\"blank level1\" >&nbsp;</th>\n",
       "      <th id=\"T_d0b98_level1_col0\" class=\"col_heading level1 col0\" >statistic</th>\n",
       "      <th id=\"T_d0b98_level1_col1\" class=\"col_heading level1 col1\" >\\pvalue</th>\n",
       "      <th id=\"T_d0b98_level1_col2\" class=\"col_heading level1 col2\" >statistic</th>\n",
       "      <th id=\"T_d0b98_level1_col3\" class=\"col_heading level1 col3\" >\\pvalue</th>\n",
       "    </tr>\n",
       "    <tr>\n",
       "      <th class=\"index_name level0\" >cluster</th>\n",
       "      <th class=\"blank col0\" >&nbsp;</th>\n",
       "      <th class=\"blank col1\" >&nbsp;</th>\n",
       "      <th class=\"blank col2\" >&nbsp;</th>\n",
       "      <th class=\"blank col3\" >&nbsp;</th>\n",
       "    </tr>\n",
       "  </thead>\n",
       "  <tbody>\n",
       "    <tr>\n",
       "      <th id=\"T_d0b98_level0_row0\" class=\"row_heading level0 row0\" >infrequent type</th>\n",
       "      <td id=\"T_d0b98_row0_col0\" class=\"data row0 col0\" >3,053</td>\n",
       "      <td id=\"T_d0b98_row0_col1\" class=\"data row0 col1\" >2.7e-05</td>\n",
       "      <td id=\"T_d0b98_row0_col2\" class=\"data row0 col2\" >3,091</td>\n",
       "      <td id=\"T_d0b98_row0_col3\" class=\"data row0 col3\" >4.1e-05</td>\n",
       "    </tr>\n",
       "    <tr>\n",
       "      <th id=\"T_d0b98_level0_row1\" class=\"row_heading level0 row1\" >morning type</th>\n",
       "      <td id=\"T_d0b98_row1_col0\" class=\"data row1 col0\" >714</td>\n",
       "      <td id=\"T_d0b98_row1_col1\" class=\"data row1 col1\" >2.4e-24</td>\n",
       "      <td id=\"T_d0b98_row1_col2\" class=\"data row1 col2\" >1,012</td>\n",
       "      <td id=\"T_d0b98_row1_col3\" class=\"data row1 col3\" >4.9e-21</td>\n",
       "    </tr>\n",
       "    <tr>\n",
       "      <th id=\"T_d0b98_level0_row2\" class=\"row_heading level0 row2\" >intermediate type</th>\n",
       "      <td id=\"T_d0b98_row2_col0\" class=\"data row2 col0\" >517</td>\n",
       "      <td id=\"T_d0b98_row2_col1\" class=\"data row2 col1\" >1.1e-26</td>\n",
       "      <td id=\"T_d0b98_row2_col2\" class=\"data row2 col2\" >653</td>\n",
       "      <td id=\"T_d0b98_row2_col3\" class=\"data row2 col3\" >4.7e-25</td>\n",
       "    </tr>\n",
       "    <tr>\n",
       "      <th id=\"T_d0b98_level0_row3\" class=\"row_heading level0 row3\" >evening type</th>\n",
       "      <td id=\"T_d0b98_row3_col0\" class=\"data row3 col0\" >3,502</td>\n",
       "      <td id=\"T_d0b98_row3_col1\" class=\"data row3 col1\" >2.0e-03</td>\n",
       "      <td id=\"T_d0b98_row3_col2\" class=\"data row3 col2\" >4,476</td>\n",
       "      <td id=\"T_d0b98_row3_col3\" class=\"data row3 col3\" >3.7e-01</td>\n",
       "    </tr>\n",
       "    <tr>\n",
       "      <th id=\"T_d0b98_level0_row4\" class=\"row_heading level0 row4\" >total</th>\n",
       "      <td id=\"T_d0b98_row4_col0\" class=\"data row4 col0\" >2,028</td>\n",
       "      <td id=\"T_d0b98_row4_col1\" class=\"data row4 col1\" >1.0e-11</td>\n",
       "      <td id=\"T_d0b98_row4_col2\" class=\"data row4 col2\" >1,831</td>\n",
       "      <td id=\"T_d0b98_row4_col3\" class=\"data row4 col3\" >2.8e-13</td>\n",
       "    </tr>\n",
       "  </tbody>\n",
       "</table>\n"
      ],
      "text/plain": [
       "<pandas.io.formats.style.Styler at 0x7f3e6062e730>"
      ]
     },
     "execution_count": 3,
     "metadata": {},
     "output_type": "execute_result"
    }
   ],
   "source": [
    "processor.mwu_table('all')"
   ]
  },
  {
   "cell_type": "code",
   "execution_count": 4,
   "metadata": {},
   "outputs": [
    {
     "data": {
      "text/html": [
       "<style type=\"text/css\">\n",
       "</style>\n",
       "<table id=\"T_475d9\">\n",
       "  <thead>\n",
       "    <tr>\n",
       "      <th class=\"index_name level0\" >cluster</th>\n",
       "      <th id=\"T_475d9_level0_col0\" class=\"col_heading level0 col0\" >infrequent type</th>\n",
       "      <th id=\"T_475d9_level0_col1\" class=\"col_heading level0 col1\" >morning type</th>\n",
       "      <th id=\"T_475d9_level0_col2\" class=\"col_heading level0 col2\" >intermediate type</th>\n",
       "      <th id=\"T_475d9_level0_col3\" class=\"col_heading level0 col3\" >evening type</th>\n",
       "    </tr>\n",
       "  </thead>\n",
       "  <tbody>\n",
       "    <tr>\n",
       "      <th id=\"T_475d9_level0_row0\" class=\"row_heading level0 row0\" >posts per day and user</th>\n",
       "      <td id=\"T_475d9_row0_col0\" class=\"data row0 col0\" >148.1%</td>\n",
       "      <td id=\"T_475d9_row0_col1\" class=\"data row0 col1\" >94.7%</td>\n",
       "      <td id=\"T_475d9_row0_col2\" class=\"data row0 col2\" >50.4%</td>\n",
       "      <td id=\"T_475d9_row0_col3\" class=\"data row0 col3\" >74.9%</td>\n",
       "    </tr>\n",
       "    <tr>\n",
       "      <th id=\"T_475d9_level0_row1\" class=\"row_heading level0 row1\" >potentially disinformative posts per day and user</th>\n",
       "      <td id=\"T_475d9_row1_col0\" class=\"data row1 col0\" >110.4%</td>\n",
       "      <td id=\"T_475d9_row1_col1\" class=\"data row1 col1\" >45.7%</td>\n",
       "      <td id=\"T_475d9_row1_col2\" class=\"data row1 col2\" >-2.3%</td>\n",
       "      <td id=\"T_475d9_row1_col3\" class=\"data row1 col3\" >72.4%</td>\n",
       "    </tr>\n",
       "    <tr>\n",
       "      <th id=\"T_475d9_level0_row2\" class=\"row_heading level0 row2\" >potentially disinformative ratio by tweet</th>\n",
       "      <td id=\"T_475d9_row2_col0\" class=\"data row2 col0\" >-15.2%</td>\n",
       "      <td id=\"T_475d9_row2_col1\" class=\"data row2 col1\" >-25.2%</td>\n",
       "      <td id=\"T_475d9_row2_col2\" class=\"data row2 col2\" >-35.0%</td>\n",
       "      <td id=\"T_475d9_row2_col3\" class=\"data row2 col3\" >-1.4%</td>\n",
       "    </tr>\n",
       "    <tr>\n",
       "      <th id=\"T_475d9_level0_row3\" class=\"row_heading level0 row3\" >potentially disinformative ratio by user</th>\n",
       "      <td id=\"T_475d9_row3_col0\" class=\"data row3 col0\" >-16.5%</td>\n",
       "      <td id=\"T_475d9_row3_col1\" class=\"data row3 col1\" >-20.2%</td>\n",
       "      <td id=\"T_475d9_row3_col2\" class=\"data row3 col2\" >-26.8%</td>\n",
       "      <td id=\"T_475d9_row3_col3\" class=\"data row3 col3\" >-6.7%</td>\n",
       "    </tr>\n",
       "  </tbody>\n",
       "</table>\n"
      ],
      "text/plain": [
       "<pandas.io.formats.style.Styler at 0x7f3e74355f10>"
      ]
     },
     "execution_count": 4,
     "metadata": {},
     "output_type": "execute_result"
    }
   ],
   "source": [
    "processor.change_during_lockdown('all', save=True)"
   ]
  },
  {
   "cell_type": "code",
   "execution_count": 5,
   "metadata": {},
   "outputs": [
    {
     "data": {
      "text/plain": [
       "Chi2ContingencyResult(statistic=1343.1340869823043, pvalue=4.78295632532073e-294, dof=1, expected_freq=array([[684526.78439414, 179765.21560586],\n",
       "       [108463.21560586,  28483.78439414]]))"
      ]
     },
     "execution_count": 5,
     "metadata": {},
     "output_type": "execute_result"
    }
   ],
   "source": [
    "chi2_contingency(processor.posts_per_user_disinf_lockdown_t.iloc[:, :-1].groupby(level=Columns.LOCKDOWN.value).sum())"
   ]
  }
 ],
 "metadata": {
  "kernelspec": {
   "display_name": "Python 3",
   "language": "python",
   "name": "python3"
  },
  "language_info": {
   "codemirror_mode": {
    "name": "ipython",
    "version": 3
   },
   "file_extension": ".py",
   "mimetype": "text/x-python",
   "name": "python",
   "nbconvert_exporter": "python",
   "pygments_lexer": "ipython3",
   "version": "3.9.19"
  },
  "toc-autonumbering": true,
  "toc-showcode": false,
  "toc-showmarkdowntxt": false
 },
 "nbformat": 4,
 "nbformat_minor": 4
}
